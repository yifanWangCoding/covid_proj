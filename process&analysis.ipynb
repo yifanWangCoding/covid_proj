{
 "cells": [
  {
   "cell_type": "markdown",
   "source": [
    "# Data Processing and analysis"
   ],
   "metadata": {
    "collapsed": false,
    "pycharm": {
     "name": "#%% md\n"
    }
   },
   "execution_count": 1
  },
  {
   "cell_type": "code",
   "execution_count": 4,
   "outputs": [],
   "source": [
    "# import packages\n",
    "\n",
    "# data processing\n",
    "import pandas as pd\n",
    "import numpy as np\n",
    "from datetime import timedelta, datetime\n",
    "\n",
    "\n",
    "import re\n",
    "\n",
    "# data visualization\n",
    "from tabulate import tabulate\n",
    "import plotly.graph_objs as go\n",
    "from plotly.graph_objs import Bar, Layout\n",
    "from plotly import offline\n",
    "import matplotlib.pyplot as plt\n",
    "import seaborn as sns\n",
    "sns.set(style=\"whitegrid\")\n",
    "sns.set(rc={'figure.figsize':(11.7,8.27)})\n",
    "\n",
    "plt.rcParams['font.sans-serif']=['SimHei'] #用来正常显示中文标签\n",
    "plt.rcParams['axes.unicode_minus'] = False #用来正常显示负号\n",
    "\n",
    "# change text color\n",
    "import colorama\n",
    "from colorama import Fore, Style\n",
    "\n",
    "# IPythonfrom IPython.display import IFrame\n",
    "\n",
    "from IPython.display import IFrame"
   ],
   "metadata": {
    "collapsed": false,
    "pycharm": {
     "name": "#%%\n"
    }
   }
  },
  {
   "cell_type": "markdown",
   "source": [
    "## data processing\n",
    "first, get the data from functions we wrote in getdata1.py\n",
    "\n",
    "time series data:\n",
    "- time_series_covid19_confirmed_US\n",
    "- time_series_covid19_confirmed_global\n",
    "- time_series_covid19_deaths_US\n",
    "- time_series_covid19_deaths_global\n",
    "- time_series_covid19_recovered_global\n",
    "\n",
    "cross sectional data:\n",
    "- csse_covid_19_daily_reports\n",
    "- csse_covid_19_daily_reports_us"
   ],
   "metadata": {
    "collapsed": false,
    "pycharm": {
     "name": "#%% md\n"
    }
   }
  },
  {
   "cell_type": "code",
   "execution_count": 5,
   "outputs": [
    {
     "name": "stdout",
     "output_type": "stream",
     "text": [
      "reading [cross sectional] data ......\n",
      "finish reading\n",
      "reading [cross sectional] data ......\n",
      "finish reading\n",
      "reading [time series] data ......\n",
      "finish reading\n",
      "reading [shanghai] data ......\n",
      "finish reading\n"
     ]
    }
   ],
   "source": [
    "from getdata1 import *\n",
    "\n",
    "# GET_csse_covid_19_daily_reports()\n",
    "latest_data_global, prev_data_global = GET_csse_covid_19_daily_reports_my('global')\n",
    "latest_data_us, prev_data_us = GET_csse_covid_19_daily_reports_my('us')\n",
    "\n",
    "# GET_csse_covid_19_time_series()\n",
    "time_series_covid19_confirmed_US, time_series_covid19_confirmed_global, time_series_covid19_deaths_US, time_series_covid19_deaths_global,time_series_covid19_recovered_global = GET_csse_covid_19_time_series_my()\n",
    "\n",
    "# shanghai time series data\n",
    "ts_shanghai_covid = GET_shanghai_data_my()  # 这里包含近10天的上海无症状新增趋势！\n"
   ],
   "metadata": {
    "collapsed": false,
    "pycharm": {
     "name": "#%%\n"
    }
   }
  },
  {
   "cell_type": "markdown",
   "source": [
    "### 1. we want time serise chinese data only from global data\n",
    "\n",
    "**ts_process_CHINA_my**\n",
    "\n",
    "datasets can be passed in:\n",
    "- time_series_covid19_confirmed_global\n",
    "- time_series_covid19_deaths_global\n",
    "- time_series_covid19_recovered_global"
   ],
   "metadata": {
    "collapsed": false,
    "pycharm": {
     "name": "#%% md\n"
    }
   }
  },
  {
   "cell_type": "code",
   "execution_count": 57,
   "outputs": [],
   "source": [
    "def ts_process_CHINA_my(ts_global):\n",
    "    '''daily new cases of china (provinces) '''\n",
    "    # extract chinese data from global data\n",
    "    ts_cn = ts_global.loc[ts_global['Country/Region'] == 'China',\n",
    "                                                     ~ts_global.columns.isin(['Country/Region', 'Lat', 'Long'])].T\n",
    "\n",
    "    # change the display form of China data\n",
    "    ts_cn = ts_cn.rename(columns=ts_cn.iloc[0]).drop(ts_cn.index[0])\n",
    "\n",
    "    # new confirmed cases\n",
    "    # remove column 'Unknown'\n",
    "    ts_cn = ts_cn.loc[:,ts_cn.columns != 'Unknown']\n",
    "    # keep the first day's data unchanged\n",
    "    firstday = pd.DataFrame(ts_cn.iloc[0]).T\n",
    "    ts_cn = ts_cn.diff().iloc[1:,:]\n",
    "    result = firstday.append(ts_cn)\n",
    "\n",
    "\n",
    "    # sort columns by the last day's new confirmed cases\n",
    "    result = result.sort_values(by = result.last_valid_index(), axis=1, ascending=False)\n",
    "\n",
    "    return result"
   ],
   "metadata": {
    "collapsed": false,
    "pycharm": {
     "name": "#%%\n"
    }
   }
  },
  {
   "cell_type": "markdown",
   "source": [
    "### 2. we get data from United States (in states)\n",
    "\n",
    "**ts_process_US(ts_US, death = False, clip = False)**\n",
    "- if death = False, we use time_series_covid19_confirmed_US\n",
    "- otherwise, we use time_series_covid19_deaths_US\n",
    "\n",
    "Since there might be negative increase, we can use clip=0 to regulate it\n",
    "\n",
    "datasets can be passed in:\n",
    "- time_series_covid19_confirmed_US\n",
    "- time_series_covid19_deaths_US"
   ],
   "metadata": {
    "collapsed": false,
    "pycharm": {
     "name": "#%% md\n"
    }
   }
  },
  {
   "cell_type": "code",
   "execution_count": 20,
   "outputs": [],
   "source": [
    "# take a look at the datasets we will use\n",
    "# time_series_covid19_confirmed_US.head()"
   ],
   "metadata": {
    "collapsed": false,
    "pycharm": {
     "name": "#%%\n"
    }
   }
  },
  {
   "cell_type": "code",
   "execution_count": 21,
   "outputs": [],
   "source": [
    "# time_series_covid19_deaths_US.head()"
   ],
   "metadata": {
    "collapsed": false,
    "pycharm": {
     "name": "#%%\n"
    }
   }
  },
  {
   "cell_type": "code",
   "execution_count": 54,
   "outputs": [],
   "source": [
    "def ts_process_US_my(ts_US, death = False, clip = False):\n",
    "    '''daily new/death  cases of US (provinces) '''\n",
    "    if death:\n",
    "        ts_US = ts_US.loc[:, ~ts_US.columns.isin(['Population'])]\n",
    "\n",
    "\n",
    "    ts_US = ts_US.groupby(['Province_State']).sum()\n",
    "    ts_US = ts_US.loc[:, ~ts_US.columns.isin(['UID', 'code3', 'FIPS', 'Lat', 'Long_'])].T\n",
    "    # new confirmed cases\n",
    "    firstday = pd.DataFrame(ts_US.iloc[0]).T\n",
    "    ts_US = ts_US.diff().iloc[1:,:]\n",
    "    ts_US = firstday.append(ts_US)\n",
    "\n",
    "    if clip:\n",
    "        ts_US.clip(lower = 0 , inplace = True)\n",
    "    return ts_US"
   ],
   "metadata": {
    "collapsed": false,
    "pycharm": {
     "name": "#%%\n"
    }
   }
  },
  {
   "cell_type": "markdown",
   "source": [
    "### 3. cross sectional data of China and US\n",
    "daily_process_my(daily_data, country = 'China')\n",
    "\n",
    "can use datasets:\n",
    "- latest_data_global, prev_data_global\n",
    "- latest_data_us, prev_data_us"
   ],
   "metadata": {
    "collapsed": false,
    "pycharm": {
     "name": "#%% md\n"
    }
   }
  },
  {
   "cell_type": "code",
   "execution_count": 50,
   "outputs": [],
   "source": [
    "# latest_data_us.head()"
   ],
   "metadata": {
    "collapsed": false,
    "pycharm": {
     "name": "#%%\n"
    }
   }
  },
  {
   "cell_type": "code",
   "execution_count": 58,
   "outputs": [],
   "source": [
    "def daily_process_my(daily_data, country = 'China'):\n",
    "\n",
    "    if country == 'China':\n",
    "        daily_data = daily_data.loc[daily_data['Country_Region'] == country]\n",
    "        # remove Province_State = Unknown\n",
    "        daily_data = daily_data.loc[daily_data['Province_State'] != 'Unkown']\n",
    "    elif country == 'us':\n",
    "        daily_data = daily_data\n",
    "\n",
    "    daily_data = daily_data.loc[:, daily_data.columns.isin(['Province_State','Last_Update','Confirmed','Deaths','Incident_Rate','Case_Fatality_Ratio' ])]\n",
    "    # set province as index\n",
    "    daily_data1 = pd.DataFrame(daily_data.iloc[:,1:])\n",
    "    daily_data1 = daily_data1.set_index(daily_data['Province_State'])\n",
    "\n",
    "    return daily_data1"
   ],
   "metadata": {
    "collapsed": false,
    "pycharm": {
     "name": "#%%\n"
    }
   }
  },
  {
   "cell_type": "code",
   "execution_count": 51,
   "outputs": [],
   "source": [
    "# daily_process_my(latest_data_us, country='us').head()"
   ],
   "metadata": {
    "collapsed": false,
    "pycharm": {
     "name": "#%%\n"
    }
   }
  },
  {
   "cell_type": "markdown",
   "source": [],
   "metadata": {
    "collapsed": false,
    "pycharm": {
     "name": "#%% md\n"
    }
   }
  },
  {
   "cell_type": "code",
   "execution_count": 59,
   "outputs": [],
   "source": [
    "ts_confirmed_CHINA_incre = ts_process_CHINA_my(time_series_covid19_confirmed_global)\n",
    "ts_deaths_CHINA_incre = ts_process_CHINA_my(time_series_covid19_deaths_global)\n",
    "ts_recovered_CHINA_incre = ts_process_CHINA_my(time_series_covid19_recovered_global)\n",
    "\n",
    "ts_confirmed_US_incre = ts_process_US_my(time_series_covid19_confirmed_US,clip=False)\n",
    "ts_deaths_US_incre = ts_process_US_my(time_series_covid19_deaths_US,death = True,clip=False)\n",
    "\n",
    "latest_data_CHINA = daily_process_my(latest_data_global, country = 'China')\n",
    "prev_data_CHINA = daily_process_my(prev_data_global, country = 'China')\n",
    "latest_data_US = daily_process_my(latest_data_us, country = 'US')\n",
    "prev_data_US = daily_process_my(prev_data_us, country = 'US')"
   ],
   "metadata": {
    "collapsed": false,
    "pycharm": {
     "name": "#%%\n"
    }
   }
  },
  {
   "cell_type": "markdown",
   "source": [
    "# data analysis\n",
    "\n",
    "first, do data quality check, and visualize them"
   ],
   "metadata": {
    "collapsed": false,
    "pycharm": {
     "name": "#%% md\n"
    }
   }
  },
  {
   "cell_type": "markdown",
   "source": [
    "### quality check\n",
    "check negatively increase, using **negincre_report_my**"
   ],
   "metadata": {
    "collapsed": false,
    "pycharm": {
     "name": "#%% md\n"
    }
   }
  },
  {
   "cell_type": "code",
   "execution_count": 132,
   "outputs": [],
   "source": [
    "def negincre_report_my(ts_incr):\n",
    "    # (row, column) of a negative increase\n",
    "    df = sorted(zip(# date\n",
    "        np.where(ts_incr < 0)[0],\n",
    "        # location\n",
    "        np.where(ts_incr < 0)[1]))\n",
    "\n",
    "    df1 = pd.DataFrame()\n",
    "    for i in range(len(df)):\n",
    "        df1=df1.append(pd.DataFrame([ts_incr.index[df[i][0]],\n",
    "                                     ts_incr.columns[df[i][1]],\n",
    "                                     ts_incr.iloc[df[i][0], df[i][1]]]).T, ignore_index=True)\n",
    "    df1.rename(columns={0: \"date\", 1: 'region', 2: 'neg_incr'},inplace=True)\n",
    "    return df1"
   ],
   "metadata": {
    "collapsed": false,
    "pycharm": {
     "name": "#%%\n"
    }
   }
  },
  {
   "cell_type": "code",
   "execution_count": 133,
   "outputs": [
    {
     "data": {
      "text/plain": "        date                region neg_incr\n0    3/13/20            California       -1\n1    3/21/20  District of Columbia       -1\n2    3/25/20                Hawaii       -1\n3    3/26/20              Colorado       -1\n4    3/28/20              Delaware       -1\n..       ...                   ...      ...\n260  4/13/22          Pennsylvania       -1\n261  4/14/22              Colorado      -30\n262  4/17/22            New Jersey       -1\n263  4/20/22              Colorado       -6\n264  4/20/22             Tennessee       -1\n\n[265 rows x 3 columns]",
      "text/html": "<div>\n<style scoped>\n    .dataframe tbody tr th:only-of-type {\n        vertical-align: middle;\n    }\n\n    .dataframe tbody tr th {\n        vertical-align: top;\n    }\n\n    .dataframe thead th {\n        text-align: right;\n    }\n</style>\n<table border=\"1\" class=\"dataframe\">\n  <thead>\n    <tr style=\"text-align: right;\">\n      <th></th>\n      <th>date</th>\n      <th>region</th>\n      <th>neg_incr</th>\n    </tr>\n  </thead>\n  <tbody>\n    <tr>\n      <th>0</th>\n      <td>3/13/20</td>\n      <td>California</td>\n      <td>-1</td>\n    </tr>\n    <tr>\n      <th>1</th>\n      <td>3/21/20</td>\n      <td>District of Columbia</td>\n      <td>-1</td>\n    </tr>\n    <tr>\n      <th>2</th>\n      <td>3/25/20</td>\n      <td>Hawaii</td>\n      <td>-1</td>\n    </tr>\n    <tr>\n      <th>3</th>\n      <td>3/26/20</td>\n      <td>Colorado</td>\n      <td>-1</td>\n    </tr>\n    <tr>\n      <th>4</th>\n      <td>3/28/20</td>\n      <td>Delaware</td>\n      <td>-1</td>\n    </tr>\n    <tr>\n      <th>...</th>\n      <td>...</td>\n      <td>...</td>\n      <td>...</td>\n    </tr>\n    <tr>\n      <th>260</th>\n      <td>4/13/22</td>\n      <td>Pennsylvania</td>\n      <td>-1</td>\n    </tr>\n    <tr>\n      <th>261</th>\n      <td>4/14/22</td>\n      <td>Colorado</td>\n      <td>-30</td>\n    </tr>\n    <tr>\n      <th>262</th>\n      <td>4/17/22</td>\n      <td>New Jersey</td>\n      <td>-1</td>\n    </tr>\n    <tr>\n      <th>263</th>\n      <td>4/20/22</td>\n      <td>Colorado</td>\n      <td>-6</td>\n    </tr>\n    <tr>\n      <th>264</th>\n      <td>4/20/22</td>\n      <td>Tennessee</td>\n      <td>-1</td>\n    </tr>\n  </tbody>\n</table>\n<p>265 rows × 3 columns</p>\n</div>"
     },
     "execution_count": 133,
     "metadata": {},
     "output_type": "execute_result"
    }
   ],
   "source": [
    "# negincre_report_my(ts_deaths_US_incre)"
   ],
   "metadata": {
    "collapsed": false,
    "pycharm": {
     "name": "#%%\n"
    }
   }
  }
 ],
 "metadata": {
  "kernelspec": {
   "display_name": "Python 3",
   "language": "python",
   "name": "python3"
  },
  "language_info": {
   "codemirror_mode": {
    "name": "ipython",
    "version": 2
   },
   "file_extension": ".py",
   "mimetype": "text/x-python",
   "name": "python",
   "nbconvert_exporter": "python",
   "pygments_lexer": "ipython2",
   "version": "2.7.6"
  }
 },
 "nbformat": 4,
 "nbformat_minor": 0
}