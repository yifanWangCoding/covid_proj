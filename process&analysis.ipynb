{
 "cells": [
  {
   "cell_type": "markdown",
   "source": [
    "# Data Processing and analysis"
   ],
   "metadata": {
    "collapsed": false,
    "pycharm": {
     "name": "#%% md\n"
    }
   },
   "execution_count": 1
  },
  {
   "cell_type": "code",
   "execution_count": 4,
   "outputs": [],
   "source": [
    "# import packages\n",
    "\n",
    "# data processing\n",
    "import pandas as pd\n",
    "import numpy as np\n",
    "from datetime import timedelta, datetime\n",
    "\n",
    "\n",
    "import re\n",
    "\n",
    "# data visualization\n",
    "from tabulate import tabulate\n",
    "import plotly.graph_objs as go\n",
    "from plotly.graph_objs import Bar, Layout\n",
    "from plotly import offline\n",
    "import matplotlib.pyplot as plt\n",
    "import seaborn as sns\n",
    "sns.set(style=\"whitegrid\")\n",
    "sns.set(rc={'figure.figsize':(11.7,8.27)})\n",
    "\n",
    "plt.rcParams['font.sans-serif']=['SimHei'] #用来正常显示中文标签\n",
    "plt.rcParams['axes.unicode_minus'] = False #用来正常显示负号\n",
    "\n",
    "# change text color\n",
    "import colorama\n",
    "from colorama import Fore, Style\n",
    "\n",
    "# IPythonfrom IPython.display import IFrame\n",
    "\n",
    "from IPython.display import IFrame"
   ],
   "metadata": {
    "collapsed": false,
    "pycharm": {
     "name": "#%%\n"
    }
   }
  },
  {
   "cell_type": "markdown",
   "source": [
    "## data processing\n",
    "first, get the data from functions we wrote in getdata1.py\n",
    "\n",
    "time series data:\n",
    "- time_series_covid19_confirmed_US\n",
    "- time_series_covid19_confirmed_global\n",
    "- time_series_covid19_deaths_US\n",
    "- time_series_covid19_deaths_global\n",
    "- time_series_covid19_recovered_global\n",
    "\n",
    "cross sectional data:\n",
    "- csse_covid_19_daily_reports\n",
    "- csse_covid_19_daily_reports_us"
   ],
   "metadata": {
    "collapsed": false,
    "pycharm": {
     "name": "#%% md\n"
    }
   }
  },
  {
   "cell_type": "code",
   "execution_count": 5,
   "outputs": [
    {
     "name": "stdout",
     "output_type": "stream",
     "text": [
      "reading [cross sectional] data ......\n",
      "finish reading\n",
      "reading [cross sectional] data ......\n",
      "finish reading\n",
      "reading [time series] data ......\n",
      "finish reading\n",
      "reading [shanghai] data ......\n",
      "finish reading\n"
     ]
    }
   ],
   "source": [
    "from getdata1 import *\n",
    "\n",
    "# GET_csse_covid_19_daily_reports()\n",
    "latest_data_global, prev_data_global = GET_csse_covid_19_daily_reports_my('global')\n",
    "latest_data_us, prev_data_us = GET_csse_covid_19_daily_reports_my('us')\n",
    "\n",
    "# GET_csse_covid_19_time_series()\n",
    "time_series_covid19_confirmed_US, time_series_covid19_confirmed_global, time_series_covid19_deaths_US, time_series_covid19_deaths_global,time_series_covid19_recovered_global = GET_csse_covid_19_time_series_my()\n",
    "\n",
    "# shanghai time series data\n",
    "ts_shanghai_covid = GET_shanghai_data_my()  # 这里包含近10天的上海无症状新增趋势！\n"
   ],
   "metadata": {
    "collapsed": false,
    "pycharm": {
     "name": "#%%\n"
    }
   }
  },
  {
   "cell_type": "markdown",
   "source": [
    "### 1. we want time serise chinese data only from global data\n",
    "\n",
    "ts_process_CHINA_my"
   ],
   "metadata": {
    "collapsed": false,
    "pycharm": {
     "name": "#%% md\n"
    }
   }
  },
  {
   "cell_type": "code",
   "execution_count": 66,
   "outputs": [],
   "source": [
    "def ts_process_CHINA_my(time_series_covid19_confirmed_global):\n",
    "    '''daily new cases of china (provinces) '''\n",
    "    # extract chinese data from global data\n",
    "    time_series_covid19_confirmed_CN = time_series_covid19_confirmed_global.loc[time_series_covid19_confirmed_global['Country/Region'] == 'China',\n",
    "                                                                                ~time_series_covid19_confirmed_global.columns.isin(['Country/Region', 'Lat', 'Long'])].T\n",
    "\n",
    "    # change the display form of China data\n",
    "    time_series_covid19_confirmed_CN = time_series_covid19_confirmed_CN.rename(columns=time_series_covid19_confirmed_CN.iloc[0]).drop(time_series_covid19_confirmed_CN.index[0])\n",
    "\n",
    "    # new confirmed cases\n",
    "    # remove column 'Unknown'\n",
    "    time_series_covid19_confirmed_CN = time_series_covid19_confirmed_CN.loc[:,time_series_covid19_confirmed_CN.columns != 'Unknown']\n",
    "    # keep the first day's data unchanged\n",
    "    firstday = pd.DataFrame(time_series_covid19_confirmed_CN.iloc[0]).T\n",
    "    time_series_covid19_confirmed_CN = time_series_covid19_confirmed_CN.diff().iloc[1:,:]\n",
    "    result = firstday.append(time_series_covid19_confirmed_CN)\n",
    "\n",
    "\n",
    "    # sort columns by the last day's new confirmed cases\n",
    "    result = result.sort_values(by = result.last_valid_index(), axis=1, ascending=False)\n",
    "\n",
    "    return result"
   ],
   "metadata": {
    "collapsed": false,
    "pycharm": {
     "name": "#%%\n"
    }
   }
  },
  {
   "cell_type": "markdown",
   "source": [
    "### 2. we get data from United States (in states)\n",
    "We use a single function def ts_process_US(ts_US, death = False, clip = False)\n",
    "- if death = False, we use time_series_covid19_confirmed_US\n",
    "- otherwise, we use time_series_covid19_deaths_US\n",
    "\n",
    "Since there might be negative increase, we can use clip=0 to regulate it"
   ],
   "metadata": {
    "collapsed": false,
    "pycharm": {
     "name": "#%% md\n"
    }
   }
  },
  {
   "cell_type": "code",
   "execution_count": 20,
   "outputs": [],
   "source": [
    "# take a look at the datasets we will use\n",
    "# time_series_covid19_confirmed_US.head()"
   ],
   "metadata": {
    "collapsed": false,
    "pycharm": {
     "name": "#%%\n"
    }
   }
  },
  {
   "cell_type": "code",
   "execution_count": 21,
   "outputs": [],
   "source": [
    "# time_series_covid19_deaths_US.head()"
   ],
   "metadata": {
    "collapsed": false,
    "pycharm": {
     "name": "#%%\n"
    }
   }
  },
  {
   "cell_type": "code",
   "execution_count": 16,
   "outputs": [],
   "source": [
    "def ts_process_US_my(ts_US, death = False, clip = False):\n",
    "    '''daily new/death  cases of US (provinces) '''\n",
    "    if death:\n",
    "        ts_US = ts_US.loc[:, ~ts_US.columns.isin(['Population'])]\n",
    "\n",
    "\n",
    "    ts_US = ts_US.groupby(['Province_State']).sum()\n",
    "    ts_US = ts_US.loc[:, ~ts_US.columns.isin(['UID', 'code3', 'FIPS', 'Lat', 'Long_'])].T\n",
    "    # new confirmed cases\n",
    "    firstday = pd.DataFrame(ts_US.iloc[0]).T\n",
    "    ts_US = ts_US.diff().iloc[1:,:]\n",
    "    ts_US = firstday.append(ts_US)\n",
    "\n",
    "    if clip:\n",
    "        ts_US.clip(lower = 0 , inplace = True)\n",
    "    return ts_US"
   ],
   "metadata": {
    "collapsed": false,
    "pycharm": {
     "name": "#%%\n"
    }
   }
  },
  {
   "cell_type": "markdown",
   "source": [
    "### 3. only extract China and US from global cross sectional data\n",
    "can use datasets:\n",
    "- latest_data_global, prev_data_global\n",
    "- latest_data_us, prev_data_us"
   ],
   "metadata": {
    "collapsed": false,
    "pycharm": {
     "name": "#%% md\n"
    }
   }
  },
  {
   "cell_type": "code",
   "execution_count": 46,
   "outputs": [
    {
     "data": {
      "text/plain": "   Province_State Country_Region          Last_Update      Lat     Long_  \\\n0         Alabama             US  2022-04-21 04:31:50  32.3182  -86.9023   \n1          Alaska             US  2022-04-21 04:31:50  61.3707 -152.4044   \n2  American Samoa             US  2022-04-21 04:31:50 -14.2710 -170.1320   \n3         Arizona             US  2022-04-21 04:31:50  33.7298 -111.4312   \n4        Arkansas             US  2022-04-21 04:31:50  34.9697  -92.3731   \n\n   Confirmed  Deaths  Recovered  Active  FIPS  Incident_Rate  \\\n0    1298626   19524        NaN     NaN   1.0   26485.355947   \n1     251506    1248        NaN     NaN   2.0   34380.113322   \n2       5663      21        NaN     NaN  60.0   10177.746626   \n3    2019174   29852        NaN     NaN   4.0   27740.795528   \n4     834553   11360        NaN     NaN   5.0   27654.314197   \n\n   Total_Test_Results  People_Hospitalized  Case_Fatality_Ratio         UID  \\\n0           7543861.0                  NaN             1.503435  84000001.0   \n1                 NaN                  NaN             0.496211  84000002.0   \n2                 NaN                  NaN             0.370828        16.0   \n3          19077981.0                  NaN             1.478426  84000004.0   \n4           5101244.0                  NaN             1.361208  84000005.0   \n\n  ISO3   Testing_Rate  Hospitalization_Rate  \n0  USA  153856.340318                   NaN  \n1  USA            NaN                   NaN  \n2  ASM            NaN                   NaN  \n3  USA  262106.371219                   NaN  \n4  USA  169038.280816                   NaN  ",
      "text/html": "<div>\n<style scoped>\n    .dataframe tbody tr th:only-of-type {\n        vertical-align: middle;\n    }\n\n    .dataframe tbody tr th {\n        vertical-align: top;\n    }\n\n    .dataframe thead th {\n        text-align: right;\n    }\n</style>\n<table border=\"1\" class=\"dataframe\">\n  <thead>\n    <tr style=\"text-align: right;\">\n      <th></th>\n      <th>Province_State</th>\n      <th>Country_Region</th>\n      <th>Last_Update</th>\n      <th>Lat</th>\n      <th>Long_</th>\n      <th>Confirmed</th>\n      <th>Deaths</th>\n      <th>Recovered</th>\n      <th>Active</th>\n      <th>FIPS</th>\n      <th>Incident_Rate</th>\n      <th>Total_Test_Results</th>\n      <th>People_Hospitalized</th>\n      <th>Case_Fatality_Ratio</th>\n      <th>UID</th>\n      <th>ISO3</th>\n      <th>Testing_Rate</th>\n      <th>Hospitalization_Rate</th>\n    </tr>\n  </thead>\n  <tbody>\n    <tr>\n      <th>0</th>\n      <td>Alabama</td>\n      <td>US</td>\n      <td>2022-04-21 04:31:50</td>\n      <td>32.3182</td>\n      <td>-86.9023</td>\n      <td>1298626</td>\n      <td>19524</td>\n      <td>NaN</td>\n      <td>NaN</td>\n      <td>1.0</td>\n      <td>26485.355947</td>\n      <td>7543861.0</td>\n      <td>NaN</td>\n      <td>1.503435</td>\n      <td>84000001.0</td>\n      <td>USA</td>\n      <td>153856.340318</td>\n      <td>NaN</td>\n    </tr>\n    <tr>\n      <th>1</th>\n      <td>Alaska</td>\n      <td>US</td>\n      <td>2022-04-21 04:31:50</td>\n      <td>61.3707</td>\n      <td>-152.4044</td>\n      <td>251506</td>\n      <td>1248</td>\n      <td>NaN</td>\n      <td>NaN</td>\n      <td>2.0</td>\n      <td>34380.113322</td>\n      <td>NaN</td>\n      <td>NaN</td>\n      <td>0.496211</td>\n      <td>84000002.0</td>\n      <td>USA</td>\n      <td>NaN</td>\n      <td>NaN</td>\n    </tr>\n    <tr>\n      <th>2</th>\n      <td>American Samoa</td>\n      <td>US</td>\n      <td>2022-04-21 04:31:50</td>\n      <td>-14.2710</td>\n      <td>-170.1320</td>\n      <td>5663</td>\n      <td>21</td>\n      <td>NaN</td>\n      <td>NaN</td>\n      <td>60.0</td>\n      <td>10177.746626</td>\n      <td>NaN</td>\n      <td>NaN</td>\n      <td>0.370828</td>\n      <td>16.0</td>\n      <td>ASM</td>\n      <td>NaN</td>\n      <td>NaN</td>\n    </tr>\n    <tr>\n      <th>3</th>\n      <td>Arizona</td>\n      <td>US</td>\n      <td>2022-04-21 04:31:50</td>\n      <td>33.7298</td>\n      <td>-111.4312</td>\n      <td>2019174</td>\n      <td>29852</td>\n      <td>NaN</td>\n      <td>NaN</td>\n      <td>4.0</td>\n      <td>27740.795528</td>\n      <td>19077981.0</td>\n      <td>NaN</td>\n      <td>1.478426</td>\n      <td>84000004.0</td>\n      <td>USA</td>\n      <td>262106.371219</td>\n      <td>NaN</td>\n    </tr>\n    <tr>\n      <th>4</th>\n      <td>Arkansas</td>\n      <td>US</td>\n      <td>2022-04-21 04:31:50</td>\n      <td>34.9697</td>\n      <td>-92.3731</td>\n      <td>834553</td>\n      <td>11360</td>\n      <td>NaN</td>\n      <td>NaN</td>\n      <td>5.0</td>\n      <td>27654.314197</td>\n      <td>5101244.0</td>\n      <td>NaN</td>\n      <td>1.361208</td>\n      <td>84000005.0</td>\n      <td>USA</td>\n      <td>169038.280816</td>\n      <td>NaN</td>\n    </tr>\n  </tbody>\n</table>\n</div>"
     },
     "execution_count": 46,
     "metadata": {},
     "output_type": "execute_result"
    }
   ],
   "source": [
    "latest_data_us.head()"
   ],
   "metadata": {
    "collapsed": false,
    "pycharm": {
     "name": "#%%\n"
    }
   }
  },
  {
   "cell_type": "code",
   "execution_count": 48,
   "outputs": [],
   "source": [
    "def daily_process_my(daily_data, country = 'China'):\n",
    "\n",
    "    if country == 'China':\n",
    "        daily_data = daily_data.loc[daily_data['Country_Region'] == country]\n",
    "        # remove Province_State = Unknown\n",
    "        daily_data = daily_data.loc[daily_data['Province_State'] != 'Unkown']\n",
    "    elif country == 'us':\n",
    "        daily_data = daily_data\n",
    "\n",
    "    daily_data = daily_data.loc[:, daily_data.columns.isin(['Province_State','Last_Update','Confirmed','Deaths','Incident_Rate','Case_Fatality_Ratio' ])]\n",
    "    # set province as index\n",
    "    daily_data1 = pd.DataFrame(daily_data.iloc[:,1:])\n",
    "    daily_data1 = daily_data1.set_index(daily_data['Province_State'])\n",
    "\n",
    "    return daily_data1"
   ],
   "metadata": {
    "collapsed": false,
    "pycharm": {
     "name": "#%%\n"
    }
   }
  },
  {
   "cell_type": "code",
   "execution_count": 49,
   "outputs": [
    {
     "data": {
      "text/plain": "                                  Last_Update  Confirmed  Deaths  \\\nProvince_State                                                     \nAlabama                   2022-04-21 04:31:50    1298626   19524   \nAlaska                    2022-04-21 04:31:50     251506    1248   \nAmerican Samoa            2022-04-21 04:31:50       5663      21   \nArizona                   2022-04-21 04:31:50    2019174   29852   \nArkansas                  2022-04-21 04:31:50     834553   11360   \nCalifornia                2022-04-21 04:31:50    9172767   89838   \nColorado                  2022-04-21 04:31:50    1371521   12030   \nConnecticut               2022-04-21 04:31:50     749783   10825   \nDelaware                  2022-04-21 04:31:50     260735    2896   \nDiamond Princess          2022-04-21 04:31:50         49       0   \nDistrict of Columbia      2022-04-21 04:31:50     140674    1333   \nFlorida                   2022-04-21 04:31:50    5906352   73759   \nGeorgia                   2022-04-21 04:31:50    2509160   37659   \nGrand Princess            2022-04-21 04:31:50        103       3   \nGuam                      2022-04-21 04:31:50      47871     354   \nHawaii                    2022-04-21 04:31:50     245035    1407   \nIdaho                     2022-04-21 04:31:50     445350    4918   \nIllinois                  2022-04-21 04:31:50    3106642   35979   \nIndiana                   2022-04-21 04:31:50    1695736   23535   \nIowa                      2022-04-21 04:31:50     761356    9510   \nKansas                    2022-04-21 04:31:50     772667    8524   \nKentucky                  2022-04-21 04:31:50    1323526   15326   \nLouisiana                 2022-04-21 04:31:50    1171262   17213   \nMaine                     2022-04-21 04:31:50     240810    2277   \nMaryland                  2022-04-21 04:31:50    1022861   14412   \nMassachusetts             2022-04-21 04:31:50    1733156   20208   \nMichigan                  2022-04-21 04:31:50    2411464   35935   \nMinnesota                 2022-04-21 04:31:50    1441279   12739   \nMississippi               2022-04-21 04:31:50     796645   12432   \nMissouri                  2022-04-21 04:31:50    1419329   20200   \nMontana                   2022-04-21 04:31:50     273371    3262   \nNebraska                  2022-04-21 04:31:50     478811    4195   \nNevada                    2022-04-21 04:31:50     710350   10684   \nNew Hampshire             2022-04-21 04:31:50     306724    2472   \nNew Jersey                2022-04-21 04:31:50    2235034   33356   \nNew Mexico                2022-04-21 04:31:50     520591    7434   \nNew York                  2022-04-21 04:31:50    5098022   68186   \nNorth Carolina            2022-04-21 04:31:50    2647650   23363   \nNorth Dakota              2022-04-21 04:31:50     240529    2257   \nNorthern Mariana Islands  2022-04-21 04:31:50      11221      34   \nOhio                      2022-04-21 04:31:50    2681437   38266   \nOklahoma                  2022-04-21 04:31:50    1038301   15736   \nOregon                    2022-04-21 04:31:50     712686    7468   \nPennsylvania              2022-04-21 04:31:50    2801534   44550   \nPuerto Rico               2022-04-21 04:31:50     499973    4188   \nRhode Island              2022-04-21 04:31:50     367413    3532   \nSouth Carolina            2022-04-21 04:31:50    1472093   17734   \nSouth Dakota              2022-04-21 04:31:50     237535    2901   \nTennessee                 2022-04-21 04:31:50    2025789   26109   \nTexas                     2022-04-21 04:31:50    6798593   87929   \nUtah                      2022-04-21 04:31:50     929361    4736   \nVermont                   2022-04-21 04:31:50     120847     626   \nVirgin Islands            2022-04-21 04:31:50      15955     111   \nVirginia                  2022-04-21 04:31:50    1688068   20099   \nWashington                2022-04-21 04:31:50    1479559   12650   \nWest Virginia             2022-04-21 04:31:50     499445    6807   \nWisconsin                 2022-04-21 04:31:50    1598774   14399   \nWyoming                   2022-04-21 04:31:50     156392    1807   \n\n                          Incident_Rate  Case_Fatality_Ratio  \nProvince_State                                                \nAlabama                    26485.355947             1.503435  \nAlaska                     34380.113322             0.496211  \nAmerican Samoa             10177.746626             0.370828  \nArizona                    27740.795528             1.478426  \nArkansas                   27654.314197             1.361208  \nCalifornia                 23215.011213             0.979399  \nColorado                   23816.354839             0.877128  \nConnecticut                21030.088181             1.443751  \nDelaware                   26775.995005             1.110706  \nDiamond Princess                    NaN             0.000000  \nDistrict of Columbia       19932.582264             0.947581  \nFlorida                    27499.880458             1.248808  \nGeorgia                    23632.476544             1.500861  \nGrand Princess                      NaN             2.912621  \nGuam                       29148.932284             0.739487  \nHawaii                     17306.296049             0.574204  \nIdaho                      24920.749945             1.104300  \nIllinois                   24516.144917             1.158132  \nIndiana                    25188.366570             1.387893  \nIowa                       24131.192018             1.249087  \nKansas                     26521.926576             1.103192  \nKentucky                   29624.504748             1.157967  \nLouisiana                  25194.964543             1.469611  \nMaine                      17914.584902             0.945559  \nMaryland                   16918.874304             1.408989  \nMassachusetts              25145.524057             1.165965  \nMichigan                   24146.375581             1.490174  \nMinnesota                  25556.259699             0.883868  \nMississippi                26767.645034             1.560545  \nMissouri                   23125.794714             1.423208  \nMontana                    25577.902988             1.193250  \nNebraska                   24752.327327             0.876129  \nNevada                     23062.143606             1.504047  \nNew Hampshire              22558.028875             0.805936  \nNew Jersey                 25163.096038             1.492416  \nNew Mexico                 24827.537200             1.427992  \nNew York                   26206.112084             1.337499  \nNorth Carolina             25244.363031             0.882405  \nNorth Dakota               31562.917453             0.938348  \nNorthern Mariana Islands   20348.541999             0.303003  \nOhio                       22939.636071             1.427071  \nOklahoma                   26239.793013             1.515553  \nOregon                     16897.355146             1.047867  \nPennsylvania               21883.583871             1.590200  \nPuerto Rico                15655.006397             0.837645  \nRhode Island               34682.511438             0.961316  \nSouth Carolina             28591.469637             1.204679  \nSouth Dakota               26850.458764             1.221294  \nTennessee                  29663.748500             1.288831  \nTexas                      23446.754386             1.293341  \nUtah                       28988.558178             0.509597  \nVermont                    19366.847813             0.518010  \nVirgin Islands             14873.960547             0.695707  \nVirginia                   19776.981341             1.190651  \nWashington                 19429.806827             0.854984  \nWest Virginia              27868.528642             1.362913  \nWisconsin                  27458.859989             0.900628  \nWyoming                    27021.955598             1.155430  ",
      "text/html": "<div>\n<style scoped>\n    .dataframe tbody tr th:only-of-type {\n        vertical-align: middle;\n    }\n\n    .dataframe tbody tr th {\n        vertical-align: top;\n    }\n\n    .dataframe thead th {\n        text-align: right;\n    }\n</style>\n<table border=\"1\" class=\"dataframe\">\n  <thead>\n    <tr style=\"text-align: right;\">\n      <th></th>\n      <th>Last_Update</th>\n      <th>Confirmed</th>\n      <th>Deaths</th>\n      <th>Incident_Rate</th>\n      <th>Case_Fatality_Ratio</th>\n    </tr>\n    <tr>\n      <th>Province_State</th>\n      <th></th>\n      <th></th>\n      <th></th>\n      <th></th>\n      <th></th>\n    </tr>\n  </thead>\n  <tbody>\n    <tr>\n      <th>Alabama</th>\n      <td>2022-04-21 04:31:50</td>\n      <td>1298626</td>\n      <td>19524</td>\n      <td>26485.355947</td>\n      <td>1.503435</td>\n    </tr>\n    <tr>\n      <th>Alaska</th>\n      <td>2022-04-21 04:31:50</td>\n      <td>251506</td>\n      <td>1248</td>\n      <td>34380.113322</td>\n      <td>0.496211</td>\n    </tr>\n    <tr>\n      <th>American Samoa</th>\n      <td>2022-04-21 04:31:50</td>\n      <td>5663</td>\n      <td>21</td>\n      <td>10177.746626</td>\n      <td>0.370828</td>\n    </tr>\n    <tr>\n      <th>Arizona</th>\n      <td>2022-04-21 04:31:50</td>\n      <td>2019174</td>\n      <td>29852</td>\n      <td>27740.795528</td>\n      <td>1.478426</td>\n    </tr>\n    <tr>\n      <th>Arkansas</th>\n      <td>2022-04-21 04:31:50</td>\n      <td>834553</td>\n      <td>11360</td>\n      <td>27654.314197</td>\n      <td>1.361208</td>\n    </tr>\n    <tr>\n      <th>California</th>\n      <td>2022-04-21 04:31:50</td>\n      <td>9172767</td>\n      <td>89838</td>\n      <td>23215.011213</td>\n      <td>0.979399</td>\n    </tr>\n    <tr>\n      <th>Colorado</th>\n      <td>2022-04-21 04:31:50</td>\n      <td>1371521</td>\n      <td>12030</td>\n      <td>23816.354839</td>\n      <td>0.877128</td>\n    </tr>\n    <tr>\n      <th>Connecticut</th>\n      <td>2022-04-21 04:31:50</td>\n      <td>749783</td>\n      <td>10825</td>\n      <td>21030.088181</td>\n      <td>1.443751</td>\n    </tr>\n    <tr>\n      <th>Delaware</th>\n      <td>2022-04-21 04:31:50</td>\n      <td>260735</td>\n      <td>2896</td>\n      <td>26775.995005</td>\n      <td>1.110706</td>\n    </tr>\n    <tr>\n      <th>Diamond Princess</th>\n      <td>2022-04-21 04:31:50</td>\n      <td>49</td>\n      <td>0</td>\n      <td>NaN</td>\n      <td>0.000000</td>\n    </tr>\n    <tr>\n      <th>District of Columbia</th>\n      <td>2022-04-21 04:31:50</td>\n      <td>140674</td>\n      <td>1333</td>\n      <td>19932.582264</td>\n      <td>0.947581</td>\n    </tr>\n    <tr>\n      <th>Florida</th>\n      <td>2022-04-21 04:31:50</td>\n      <td>5906352</td>\n      <td>73759</td>\n      <td>27499.880458</td>\n      <td>1.248808</td>\n    </tr>\n    <tr>\n      <th>Georgia</th>\n      <td>2022-04-21 04:31:50</td>\n      <td>2509160</td>\n      <td>37659</td>\n      <td>23632.476544</td>\n      <td>1.500861</td>\n    </tr>\n    <tr>\n      <th>Grand Princess</th>\n      <td>2022-04-21 04:31:50</td>\n      <td>103</td>\n      <td>3</td>\n      <td>NaN</td>\n      <td>2.912621</td>\n    </tr>\n    <tr>\n      <th>Guam</th>\n      <td>2022-04-21 04:31:50</td>\n      <td>47871</td>\n      <td>354</td>\n      <td>29148.932284</td>\n      <td>0.739487</td>\n    </tr>\n    <tr>\n      <th>Hawaii</th>\n      <td>2022-04-21 04:31:50</td>\n      <td>245035</td>\n      <td>1407</td>\n      <td>17306.296049</td>\n      <td>0.574204</td>\n    </tr>\n    <tr>\n      <th>Idaho</th>\n      <td>2022-04-21 04:31:50</td>\n      <td>445350</td>\n      <td>4918</td>\n      <td>24920.749945</td>\n      <td>1.104300</td>\n    </tr>\n    <tr>\n      <th>Illinois</th>\n      <td>2022-04-21 04:31:50</td>\n      <td>3106642</td>\n      <td>35979</td>\n      <td>24516.144917</td>\n      <td>1.158132</td>\n    </tr>\n    <tr>\n      <th>Indiana</th>\n      <td>2022-04-21 04:31:50</td>\n      <td>1695736</td>\n      <td>23535</td>\n      <td>25188.366570</td>\n      <td>1.387893</td>\n    </tr>\n    <tr>\n      <th>Iowa</th>\n      <td>2022-04-21 04:31:50</td>\n      <td>761356</td>\n      <td>9510</td>\n      <td>24131.192018</td>\n      <td>1.249087</td>\n    </tr>\n    <tr>\n      <th>Kansas</th>\n      <td>2022-04-21 04:31:50</td>\n      <td>772667</td>\n      <td>8524</td>\n      <td>26521.926576</td>\n      <td>1.103192</td>\n    </tr>\n    <tr>\n      <th>Kentucky</th>\n      <td>2022-04-21 04:31:50</td>\n      <td>1323526</td>\n      <td>15326</td>\n      <td>29624.504748</td>\n      <td>1.157967</td>\n    </tr>\n    <tr>\n      <th>Louisiana</th>\n      <td>2022-04-21 04:31:50</td>\n      <td>1171262</td>\n      <td>17213</td>\n      <td>25194.964543</td>\n      <td>1.469611</td>\n    </tr>\n    <tr>\n      <th>Maine</th>\n      <td>2022-04-21 04:31:50</td>\n      <td>240810</td>\n      <td>2277</td>\n      <td>17914.584902</td>\n      <td>0.945559</td>\n    </tr>\n    <tr>\n      <th>Maryland</th>\n      <td>2022-04-21 04:31:50</td>\n      <td>1022861</td>\n      <td>14412</td>\n      <td>16918.874304</td>\n      <td>1.408989</td>\n    </tr>\n    <tr>\n      <th>Massachusetts</th>\n      <td>2022-04-21 04:31:50</td>\n      <td>1733156</td>\n      <td>20208</td>\n      <td>25145.524057</td>\n      <td>1.165965</td>\n    </tr>\n    <tr>\n      <th>Michigan</th>\n      <td>2022-04-21 04:31:50</td>\n      <td>2411464</td>\n      <td>35935</td>\n      <td>24146.375581</td>\n      <td>1.490174</td>\n    </tr>\n    <tr>\n      <th>Minnesota</th>\n      <td>2022-04-21 04:31:50</td>\n      <td>1441279</td>\n      <td>12739</td>\n      <td>25556.259699</td>\n      <td>0.883868</td>\n    </tr>\n    <tr>\n      <th>Mississippi</th>\n      <td>2022-04-21 04:31:50</td>\n      <td>796645</td>\n      <td>12432</td>\n      <td>26767.645034</td>\n      <td>1.560545</td>\n    </tr>\n    <tr>\n      <th>Missouri</th>\n      <td>2022-04-21 04:31:50</td>\n      <td>1419329</td>\n      <td>20200</td>\n      <td>23125.794714</td>\n      <td>1.423208</td>\n    </tr>\n    <tr>\n      <th>Montana</th>\n      <td>2022-04-21 04:31:50</td>\n      <td>273371</td>\n      <td>3262</td>\n      <td>25577.902988</td>\n      <td>1.193250</td>\n    </tr>\n    <tr>\n      <th>Nebraska</th>\n      <td>2022-04-21 04:31:50</td>\n      <td>478811</td>\n      <td>4195</td>\n      <td>24752.327327</td>\n      <td>0.876129</td>\n    </tr>\n    <tr>\n      <th>Nevada</th>\n      <td>2022-04-21 04:31:50</td>\n      <td>710350</td>\n      <td>10684</td>\n      <td>23062.143606</td>\n      <td>1.504047</td>\n    </tr>\n    <tr>\n      <th>New Hampshire</th>\n      <td>2022-04-21 04:31:50</td>\n      <td>306724</td>\n      <td>2472</td>\n      <td>22558.028875</td>\n      <td>0.805936</td>\n    </tr>\n    <tr>\n      <th>New Jersey</th>\n      <td>2022-04-21 04:31:50</td>\n      <td>2235034</td>\n      <td>33356</td>\n      <td>25163.096038</td>\n      <td>1.492416</td>\n    </tr>\n    <tr>\n      <th>New Mexico</th>\n      <td>2022-04-21 04:31:50</td>\n      <td>520591</td>\n      <td>7434</td>\n      <td>24827.537200</td>\n      <td>1.427992</td>\n    </tr>\n    <tr>\n      <th>New York</th>\n      <td>2022-04-21 04:31:50</td>\n      <td>5098022</td>\n      <td>68186</td>\n      <td>26206.112084</td>\n      <td>1.337499</td>\n    </tr>\n    <tr>\n      <th>North Carolina</th>\n      <td>2022-04-21 04:31:50</td>\n      <td>2647650</td>\n      <td>23363</td>\n      <td>25244.363031</td>\n      <td>0.882405</td>\n    </tr>\n    <tr>\n      <th>North Dakota</th>\n      <td>2022-04-21 04:31:50</td>\n      <td>240529</td>\n      <td>2257</td>\n      <td>31562.917453</td>\n      <td>0.938348</td>\n    </tr>\n    <tr>\n      <th>Northern Mariana Islands</th>\n      <td>2022-04-21 04:31:50</td>\n      <td>11221</td>\n      <td>34</td>\n      <td>20348.541999</td>\n      <td>0.303003</td>\n    </tr>\n    <tr>\n      <th>Ohio</th>\n      <td>2022-04-21 04:31:50</td>\n      <td>2681437</td>\n      <td>38266</td>\n      <td>22939.636071</td>\n      <td>1.427071</td>\n    </tr>\n    <tr>\n      <th>Oklahoma</th>\n      <td>2022-04-21 04:31:50</td>\n      <td>1038301</td>\n      <td>15736</td>\n      <td>26239.793013</td>\n      <td>1.515553</td>\n    </tr>\n    <tr>\n      <th>Oregon</th>\n      <td>2022-04-21 04:31:50</td>\n      <td>712686</td>\n      <td>7468</td>\n      <td>16897.355146</td>\n      <td>1.047867</td>\n    </tr>\n    <tr>\n      <th>Pennsylvania</th>\n      <td>2022-04-21 04:31:50</td>\n      <td>2801534</td>\n      <td>44550</td>\n      <td>21883.583871</td>\n      <td>1.590200</td>\n    </tr>\n    <tr>\n      <th>Puerto Rico</th>\n      <td>2022-04-21 04:31:50</td>\n      <td>499973</td>\n      <td>4188</td>\n      <td>15655.006397</td>\n      <td>0.837645</td>\n    </tr>\n    <tr>\n      <th>Rhode Island</th>\n      <td>2022-04-21 04:31:50</td>\n      <td>367413</td>\n      <td>3532</td>\n      <td>34682.511438</td>\n      <td>0.961316</td>\n    </tr>\n    <tr>\n      <th>South Carolina</th>\n      <td>2022-04-21 04:31:50</td>\n      <td>1472093</td>\n      <td>17734</td>\n      <td>28591.469637</td>\n      <td>1.204679</td>\n    </tr>\n    <tr>\n      <th>South Dakota</th>\n      <td>2022-04-21 04:31:50</td>\n      <td>237535</td>\n      <td>2901</td>\n      <td>26850.458764</td>\n      <td>1.221294</td>\n    </tr>\n    <tr>\n      <th>Tennessee</th>\n      <td>2022-04-21 04:31:50</td>\n      <td>2025789</td>\n      <td>26109</td>\n      <td>29663.748500</td>\n      <td>1.288831</td>\n    </tr>\n    <tr>\n      <th>Texas</th>\n      <td>2022-04-21 04:31:50</td>\n      <td>6798593</td>\n      <td>87929</td>\n      <td>23446.754386</td>\n      <td>1.293341</td>\n    </tr>\n    <tr>\n      <th>Utah</th>\n      <td>2022-04-21 04:31:50</td>\n      <td>929361</td>\n      <td>4736</td>\n      <td>28988.558178</td>\n      <td>0.509597</td>\n    </tr>\n    <tr>\n      <th>Vermont</th>\n      <td>2022-04-21 04:31:50</td>\n      <td>120847</td>\n      <td>626</td>\n      <td>19366.847813</td>\n      <td>0.518010</td>\n    </tr>\n    <tr>\n      <th>Virgin Islands</th>\n      <td>2022-04-21 04:31:50</td>\n      <td>15955</td>\n      <td>111</td>\n      <td>14873.960547</td>\n      <td>0.695707</td>\n    </tr>\n    <tr>\n      <th>Virginia</th>\n      <td>2022-04-21 04:31:50</td>\n      <td>1688068</td>\n      <td>20099</td>\n      <td>19776.981341</td>\n      <td>1.190651</td>\n    </tr>\n    <tr>\n      <th>Washington</th>\n      <td>2022-04-21 04:31:50</td>\n      <td>1479559</td>\n      <td>12650</td>\n      <td>19429.806827</td>\n      <td>0.854984</td>\n    </tr>\n    <tr>\n      <th>West Virginia</th>\n      <td>2022-04-21 04:31:50</td>\n      <td>499445</td>\n      <td>6807</td>\n      <td>27868.528642</td>\n      <td>1.362913</td>\n    </tr>\n    <tr>\n      <th>Wisconsin</th>\n      <td>2022-04-21 04:31:50</td>\n      <td>1598774</td>\n      <td>14399</td>\n      <td>27458.859989</td>\n      <td>0.900628</td>\n    </tr>\n    <tr>\n      <th>Wyoming</th>\n      <td>2022-04-21 04:31:50</td>\n      <td>156392</td>\n      <td>1807</td>\n      <td>27021.955598</td>\n      <td>1.155430</td>\n    </tr>\n  </tbody>\n</table>\n</div>"
     },
     "execution_count": 49,
     "metadata": {},
     "output_type": "execute_result"
    }
   ],
   "source": [
    "daily_process_my(latest_data_us, country='us')"
   ],
   "metadata": {
    "collapsed": false,
    "pycharm": {
     "name": "#%%\n"
    }
   }
  }
 ],
 "metadata": {
  "kernelspec": {
   "display_name": "Python 3",
   "language": "python",
   "name": "python3"
  },
  "language_info": {
   "codemirror_mode": {
    "name": "ipython",
    "version": 2
   },
   "file_extension": ".py",
   "mimetype": "text/x-python",
   "name": "python",
   "nbconvert_exporter": "python",
   "pygments_lexer": "ipython2",
   "version": "2.7.6"
  }
 },
 "nbformat": 4,
 "nbformat_minor": 0
}