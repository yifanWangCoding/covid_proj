{
 "cells": [
  {
   "cell_type": "code",
   "execution_count": 59,
   "metadata": {
    "collapsed": true,
    "pycharm": {
     "name": "#%%\n"
    }
   },
   "outputs": [],
   "source": [
    "import numpy as np\n",
    "import pandas as pd\n",
    "from datetime import datetime, timedelta"
   ]
  },
  {
   "cell_type": "markdown",
   "source": [
    "data importing using 2 functions:\n",
    "1. GET_csse_covid_19_time_series()\n",
    "2. GET_csse_covid_19_daily_reports(region)"
   ],
   "metadata": {
    "collapsed": false,
    "pycharm": {
     "name": "#%% md\n"
    }
   }
  },
  {
   "cell_type": "code",
   "execution_count": 4,
   "outputs": [],
   "source": [
    "def GET_csse_covid_19_time_series():\n",
    "    time_series_covid19_confirmed_US = pd.read_csv('https://raw.githubusercontent.com/CSSEGISandData/COVID-19/master/csse_covid_19_data/csse_covid_19_time_series/time_series_covid19_confirmed_US.csv')\n",
    "    time_series_covid19_confirmed_global = pd.read_csv('https://raw.githubusercontent.com/CSSEGISandData/COVID-19/master/csse_covid_19_data/csse_covid_19_time_series/time_series_covid19_confirmed_global.csv')\n",
    "    time_series_covid19_deaths_US = pd.read_csv('https://raw.githubusercontent.com/CSSEGISandData/COVID-19/master/csse_covid_19_data/csse_covid_19_time_series/time_series_covid19_deaths_US.csv')\n",
    "    time_series_covid19_deaths_global = pd.read_csv('https://raw.githubusercontent.com/CSSEGISandData/COVID-19/master/csse_covid_19_data/csse_covid_19_time_series/time_series_covid19_deaths_global.csv')\n",
    "    time_series_covid19_recovered_global = pd.read_csv('https://raw.githubusercontent.com/CSSEGISandData/COVID-19/master/csse_covid_19_data/csse_covid_19_time_series/time_series_covid19_recovered_global.csv')\n",
    "    return time_series_covid19_confirmed_US, time_series_covid19_confirmed_global, time_series_covid19_deaths_US, time_series_covid19_deaths_global, time_series_covid19_recovered_global"
   ],
   "metadata": {
    "collapsed": false,
    "pycharm": {
     "name": "#%%\n"
    }
   }
  },
  {
   "cell_type": "code",
   "execution_count": 5,
   "outputs": [],
   "source": [
    "def GET_csse_covid_19_daily_reports(region):\n",
    "    '''\n",
    "   get the latest and previous date cases\n",
    "    :return:\n",
    "    '''\n",
    "    if region == 'global':\n",
    "        region = ''\n",
    "    elif region == 'us':\n",
    "        region = '_us'\n",
    "    # current date\n",
    "    date = datetime.now()\n",
    "    latest_data = None\n",
    "    prev_data = None\n",
    "    while latest_data is None or prev_data is None:\n",
    "        if latest_data is None:\n",
    "            try:\n",
    "                url1 = 'https://raw.githubusercontent.com/CSSEGISandData/COVID-19/master/csse_covid_19_data/csse_covid_19_daily_reports{}/{}.csv'.format(region, date.strftime('%m-%d-%Y'))\n",
    "                latest_data = pd.read_csv(url1)\n",
    "            except:\n",
    "                date = date-timedelta(1)\n",
    "        else:\n",
    "            try:\n",
    "                url2 = 'https://raw.githubusercontent.com/CSSEGISandData/COVID-19/master/csse_covid_19_data/csse_covid_19_daily_reports{}/{}.csv'.format(region, date.strftime('%m-%d-%Y'))\n",
    "                prev_data = pd.read_csv(url2)\n",
    "            except:\n",
    "                date = date-timedelta(1)\n",
    "    return latest_data, prev_data\n"
   ],
   "metadata": {
    "collapsed": false,
    "pycharm": {
     "name": "#%%\n"
    }
   }
  },
  {
   "cell_type": "code",
   "execution_count": 33,
   "outputs": [],
   "source": [
    "latest_data_global, prev_data_global = GET_csse_covid_19_daily_reports('global')\n",
    "latest_data_us, prev_data_us = GET_csse_covid_19_daily_reports('us')"
   ],
   "metadata": {
    "collapsed": false,
    "pycharm": {
     "name": "#%%\n"
    }
   }
  },
  {
   "cell_type": "code",
   "execution_count": 57,
   "outputs": [],
   "source": [
    "time_series_covid19_confirmed_US, time_series_covid19_confirmed_global, time_series_covid19_deaths_US, time_series_covid19_deaths_global, time_series_covid19_recovered_global = GET_csse_covid_19_time_series()"
   ],
   "metadata": {
    "collapsed": false,
    "pycharm": {
     "name": "#%%\n"
    }
   }
  },
  {
   "cell_type": "markdown",
   "source": [
    "ts_process_CHINA"
   ],
   "metadata": {
    "collapsed": false,
    "pycharm": {
     "name": "#%% md\n"
    }
   }
  },
  {
   "cell_type": "code",
   "execution_count": 39,
   "outputs": [],
   "source": [
    "def ts_process_CHINA(time_series_covid19_confirmed_global):\n",
    "    '''daily new cases of china (provinces) '''\n",
    "    # extract chinese data from global data\n",
    "    time_series_covid19_confirmed_CN = time_series_covid19_confirmed_global.loc[time_series_covid19_confirmed_global['Country/Region'] == 'China',\n",
    "                                                                                ~time_series_covid19_confirmed_global.columns.isin(['Country/Region', 'Lat', 'Long'])].T\n",
    "\n",
    "    # change the display form of China data\n",
    "    time_series_covid19_confirmed_CN = time_series_covid19_confirmed_CN.rename(columns=time_series_covid19_confirmed_CN.iloc[0]).drop(time_series_covid19_confirmed_CN.index[0])\n",
    "\n",
    "    # new confirmed cases\n",
    "    # remove column 'Unknown'\n",
    "    time_series_covid19_confirmed_CN = time_series_covid19_confirmed_CN.diff().loc[:,time_series_covid19_confirmed_CN.columns != 'Unknown']\n",
    "\n",
    "    # sort columns by the last day's new confirmed cases\n",
    "    time_series_covid19_confirmed_CN = time_series_covid19_confirmed_CN.sort_values(by = time_series_covid19_confirmed_CN.last_valid_index(), axis=1, ascending=False)\n",
    "\n",
    "    return time_series_covid19_confirmed_CN"
   ],
   "metadata": {
    "collapsed": false,
    "pycharm": {
     "name": "#%%\n"
    }
   }
  },
  {
   "cell_type": "code",
   "execution_count": 40,
   "outputs": [
    {
     "data": {
      "text/plain": "        Shanghai Hong Kong Jilin Guangdong Fujian Zhejiang Heilongjiang  \\\n1/22/20      NaN       NaN   NaN       NaN    NaN      NaN          NaN   \n1/23/20        7         2     1         6      4       17            2   \n1/24/20        4         0     2        21      5       16            2   \n1/25/20       13         3     1        25      8       19            5   \n1/26/20        7         3     0        33     17       42            6   \n...          ...       ...   ...       ...    ...      ...          ...   \n4/9/22      1015      2535   242        17     12       16            1   \n4/10/22      917      1921   187        22      9        9            0   \n4/11/22      998      1407   171        20      7       11            1   \n4/12/22     1190      1433   233        26      8       12            2   \n4/13/22     2573      1272   325        48     13        9            7   \n\n        Yunnan Guangxi Sichuan  ... Ningxia Hubei Inner Mongolia Hunan  \\\n1/22/20    NaN     NaN     NaN  ...     NaN   NaN            NaN   NaN   \n1/23/20      1       3       3  ...       0     0              0     5   \n1/24/20      3      18       7  ...       1   105              1    15   \n1/25/20      6       0      13  ...       1   212              6    19   \n1/26/20      5      13      16  ...       1   297              0    26   \n...        ...     ...     ...  ...     ...   ...            ...   ...   \n4/9/22       1       5       6  ...       0     1              0     0   \n4/10/22      2       4      10  ...       0     0              0     0   \n4/11/22      1       5       7  ...       0     1              1     0   \n4/12/22      1       5       1  ...       0     1              0     2   \n4/13/22      6       6       5  ...       0     0              0     0   \n\n        Guizhou Gansu Tianjin Tibet Xinjiang Chongqing  \n1/22/20     NaN   NaN     NaN   NaN      NaN       NaN  \n1/23/20       2     2       0     0        2         3  \n1/24/20       0     0       4     0        0        18  \n1/25/20       1     2       2     0        1        30  \n1/26/20       1     3       4     0        1        18  \n...         ...   ...     ...   ...      ...       ...  \n4/9/22        0     0       1     0        0         0  \n4/10/22       0     0       0     0        0         0  \n4/11/22       0     0       0     0        0         0  \n4/12/22       0     0       1     0        0         0  \n4/13/22       0     0       0     0        0         0  \n\n[813 rows x 33 columns]",
      "text/html": "<div>\n<style scoped>\n    .dataframe tbody tr th:only-of-type {\n        vertical-align: middle;\n    }\n\n    .dataframe tbody tr th {\n        vertical-align: top;\n    }\n\n    .dataframe thead th {\n        text-align: right;\n    }\n</style>\n<table border=\"1\" class=\"dataframe\">\n  <thead>\n    <tr style=\"text-align: right;\">\n      <th></th>\n      <th>Shanghai</th>\n      <th>Hong Kong</th>\n      <th>Jilin</th>\n      <th>Guangdong</th>\n      <th>Fujian</th>\n      <th>Zhejiang</th>\n      <th>Heilongjiang</th>\n      <th>Yunnan</th>\n      <th>Guangxi</th>\n      <th>Sichuan</th>\n      <th>...</th>\n      <th>Ningxia</th>\n      <th>Hubei</th>\n      <th>Inner Mongolia</th>\n      <th>Hunan</th>\n      <th>Guizhou</th>\n      <th>Gansu</th>\n      <th>Tianjin</th>\n      <th>Tibet</th>\n      <th>Xinjiang</th>\n      <th>Chongqing</th>\n    </tr>\n  </thead>\n  <tbody>\n    <tr>\n      <th>1/22/20</th>\n      <td>NaN</td>\n      <td>NaN</td>\n      <td>NaN</td>\n      <td>NaN</td>\n      <td>NaN</td>\n      <td>NaN</td>\n      <td>NaN</td>\n      <td>NaN</td>\n      <td>NaN</td>\n      <td>NaN</td>\n      <td>...</td>\n      <td>NaN</td>\n      <td>NaN</td>\n      <td>NaN</td>\n      <td>NaN</td>\n      <td>NaN</td>\n      <td>NaN</td>\n      <td>NaN</td>\n      <td>NaN</td>\n      <td>NaN</td>\n      <td>NaN</td>\n    </tr>\n    <tr>\n      <th>1/23/20</th>\n      <td>7</td>\n      <td>2</td>\n      <td>1</td>\n      <td>6</td>\n      <td>4</td>\n      <td>17</td>\n      <td>2</td>\n      <td>1</td>\n      <td>3</td>\n      <td>3</td>\n      <td>...</td>\n      <td>0</td>\n      <td>0</td>\n      <td>0</td>\n      <td>5</td>\n      <td>2</td>\n      <td>2</td>\n      <td>0</td>\n      <td>0</td>\n      <td>2</td>\n      <td>3</td>\n    </tr>\n    <tr>\n      <th>1/24/20</th>\n      <td>4</td>\n      <td>0</td>\n      <td>2</td>\n      <td>21</td>\n      <td>5</td>\n      <td>16</td>\n      <td>2</td>\n      <td>3</td>\n      <td>18</td>\n      <td>7</td>\n      <td>...</td>\n      <td>1</td>\n      <td>105</td>\n      <td>1</td>\n      <td>15</td>\n      <td>0</td>\n      <td>0</td>\n      <td>4</td>\n      <td>0</td>\n      <td>0</td>\n      <td>18</td>\n    </tr>\n    <tr>\n      <th>1/25/20</th>\n      <td>13</td>\n      <td>3</td>\n      <td>1</td>\n      <td>25</td>\n      <td>8</td>\n      <td>19</td>\n      <td>5</td>\n      <td>6</td>\n      <td>0</td>\n      <td>13</td>\n      <td>...</td>\n      <td>1</td>\n      <td>212</td>\n      <td>6</td>\n      <td>19</td>\n      <td>1</td>\n      <td>2</td>\n      <td>2</td>\n      <td>0</td>\n      <td>1</td>\n      <td>30</td>\n    </tr>\n    <tr>\n      <th>1/26/20</th>\n      <td>7</td>\n      <td>3</td>\n      <td>0</td>\n      <td>33</td>\n      <td>17</td>\n      <td>42</td>\n      <td>6</td>\n      <td>5</td>\n      <td>13</td>\n      <td>16</td>\n      <td>...</td>\n      <td>1</td>\n      <td>297</td>\n      <td>0</td>\n      <td>26</td>\n      <td>1</td>\n      <td>3</td>\n      <td>4</td>\n      <td>0</td>\n      <td>1</td>\n      <td>18</td>\n    </tr>\n    <tr>\n      <th>...</th>\n      <td>...</td>\n      <td>...</td>\n      <td>...</td>\n      <td>...</td>\n      <td>...</td>\n      <td>...</td>\n      <td>...</td>\n      <td>...</td>\n      <td>...</td>\n      <td>...</td>\n      <td>...</td>\n      <td>...</td>\n      <td>...</td>\n      <td>...</td>\n      <td>...</td>\n      <td>...</td>\n      <td>...</td>\n      <td>...</td>\n      <td>...</td>\n      <td>...</td>\n      <td>...</td>\n    </tr>\n    <tr>\n      <th>4/9/22</th>\n      <td>1015</td>\n      <td>2535</td>\n      <td>242</td>\n      <td>17</td>\n      <td>12</td>\n      <td>16</td>\n      <td>1</td>\n      <td>1</td>\n      <td>5</td>\n      <td>6</td>\n      <td>...</td>\n      <td>0</td>\n      <td>1</td>\n      <td>0</td>\n      <td>0</td>\n      <td>0</td>\n      <td>0</td>\n      <td>1</td>\n      <td>0</td>\n      <td>0</td>\n      <td>0</td>\n    </tr>\n    <tr>\n      <th>4/10/22</th>\n      <td>917</td>\n      <td>1921</td>\n      <td>187</td>\n      <td>22</td>\n      <td>9</td>\n      <td>9</td>\n      <td>0</td>\n      <td>2</td>\n      <td>4</td>\n      <td>10</td>\n      <td>...</td>\n      <td>0</td>\n      <td>0</td>\n      <td>0</td>\n      <td>0</td>\n      <td>0</td>\n      <td>0</td>\n      <td>0</td>\n      <td>0</td>\n      <td>0</td>\n      <td>0</td>\n    </tr>\n    <tr>\n      <th>4/11/22</th>\n      <td>998</td>\n      <td>1407</td>\n      <td>171</td>\n      <td>20</td>\n      <td>7</td>\n      <td>11</td>\n      <td>1</td>\n      <td>1</td>\n      <td>5</td>\n      <td>7</td>\n      <td>...</td>\n      <td>0</td>\n      <td>1</td>\n      <td>1</td>\n      <td>0</td>\n      <td>0</td>\n      <td>0</td>\n      <td>0</td>\n      <td>0</td>\n      <td>0</td>\n      <td>0</td>\n    </tr>\n    <tr>\n      <th>4/12/22</th>\n      <td>1190</td>\n      <td>1433</td>\n      <td>233</td>\n      <td>26</td>\n      <td>8</td>\n      <td>12</td>\n      <td>2</td>\n      <td>1</td>\n      <td>5</td>\n      <td>1</td>\n      <td>...</td>\n      <td>0</td>\n      <td>1</td>\n      <td>0</td>\n      <td>2</td>\n      <td>0</td>\n      <td>0</td>\n      <td>1</td>\n      <td>0</td>\n      <td>0</td>\n      <td>0</td>\n    </tr>\n    <tr>\n      <th>4/13/22</th>\n      <td>2573</td>\n      <td>1272</td>\n      <td>325</td>\n      <td>48</td>\n      <td>13</td>\n      <td>9</td>\n      <td>7</td>\n      <td>6</td>\n      <td>6</td>\n      <td>5</td>\n      <td>...</td>\n      <td>0</td>\n      <td>0</td>\n      <td>0</td>\n      <td>0</td>\n      <td>0</td>\n      <td>0</td>\n      <td>0</td>\n      <td>0</td>\n      <td>0</td>\n      <td>0</td>\n    </tr>\n  </tbody>\n</table>\n<p>813 rows × 33 columns</p>\n</div>"
     },
     "execution_count": 40,
     "metadata": {},
     "output_type": "execute_result"
    }
   ],
   "source": [
    "ts_process_CHINA(time_series_covid19_confirmed_global)"
   ],
   "metadata": {
    "collapsed": false,
    "pycharm": {
     "name": "#%%\n"
    }
   }
  },
  {
   "cell_type": "code",
   "execution_count": 70,
   "outputs": [],
   "source": [
    "def ts_process_US(time_series_covid19_confirmed_US):\n",
    "    '''daily new cases of china (provinces) '''\n",
    "    time_series_covid19_confirmed_US = time_series_covid19_confirmed_US.groupby(['Province_State']).sum()\n",
    "    time_series_covid19_confirmed_US = time_series_covid19_confirmed_US.loc[:, ~time_series_covid19_confirmed_US.columns.isin(['UID', 'code3', 'FIPS', 'Lat', 'Long_'])].T\n",
    "    # new confirmed cases\n",
    "    time_series_covid19_confirmed_US = time_series_covid19_confirmed_US.diff()\n",
    "    return time_series_covid19_confirmed_US"
   ],
   "metadata": {
    "collapsed": false,
    "pycharm": {
     "name": "#%%\n"
    }
   }
  },
  {
   "cell_type": "code",
   "execution_count": 71,
   "outputs": [
    {
     "data": {
      "text/plain": "Province_State  Alabama  Alaska  American Samoa  Arizona  Arkansas  \\\n1/22/20             NaN     NaN             NaN      NaN       NaN   \n1/23/20             0.0     0.0             0.0      0.0       0.0   \n1/24/20             0.0     0.0             0.0      0.0       0.0   \n1/25/20             0.0     0.0             0.0      0.0       0.0   \n1/26/20             0.0     0.0             0.0      1.0       0.0   \n...                 ...     ...             ...      ...       ...   \n4/9/22              0.0     0.0             0.0      0.0      60.0   \n4/10/22             0.0     0.0             0.0      0.0      30.0   \n4/11/22           361.0     0.0           297.0      0.0      33.0   \n4/12/22           214.0     0.0           119.0      0.0     103.0   \n4/13/22           156.0  1303.0            10.0   2777.0     127.0   \n\nProvince_State  California  Colorado  Connecticut  Delaware  Diamond Princess  \\\n1/22/20                NaN       NaN          NaN       NaN               NaN   \n1/23/20                0.0       0.0          0.0       0.0               0.0   \n1/24/20                0.0       0.0          0.0       0.0               0.0   \n1/25/20                0.0       0.0          0.0       0.0               0.0   \n1/26/20                2.0       0.0          0.0       0.0               0.0   \n...                    ...       ...          ...       ...               ...   \n4/9/22                 0.0       0.0          0.0     110.0               0.0   \n4/10/22                0.0       0.0          0.0     141.0               0.0   \n4/11/22             5093.0    2943.0       1836.0      87.0               0.0   \n4/12/22              917.0    1119.0        631.0      73.0               0.0   \n4/13/22              975.0    1656.0        691.0     151.0               0.0   \n\nProvince_State  ...  Tennessee    Texas  Utah  Vermont  Virgin Islands  \\\n1/22/20         ...        NaN      NaN   NaN      NaN             NaN   \n1/23/20         ...        0.0      0.0   0.0      0.0             0.0   \n1/24/20         ...        0.0      0.0   0.0      0.0             0.0   \n1/25/20         ...        0.0      0.0   0.0      0.0             0.0   \n1/26/20         ...        0.0      0.0   0.0      0.0             0.0   \n...             ...        ...      ...   ...      ...             ...   \n4/9/22          ...      479.0   2469.0   0.0      0.0             0.0   \n4/10/22         ...        0.0    723.0   0.0      0.0             0.0   \n4/11/22         ...        0.0   3558.0   0.0    529.0            20.0   \n4/12/22         ...      571.0   2946.0   0.0    163.0            17.0   \n4/13/22         ...      277.0 -10061.0   0.0    310.0            35.0   \n\nProvince_State  Virginia  Washington  West Virginia  Wisconsin  Wyoming  \n1/22/20              NaN         NaN            NaN        NaN      NaN  \n1/23/20              0.0         0.0            0.0        0.0      0.0  \n1/24/20              0.0         0.0            0.0        0.0      0.0  \n1/25/20              0.0         0.0            0.0        0.0      0.0  \n1/26/20              0.0         0.0            0.0        0.0      0.0  \n...                  ...         ...            ...        ...      ...  \n4/9/22               0.0         0.0            0.0        0.0      0.0  \n4/10/22              0.0         0.0            0.0        0.0      0.0  \n4/11/22           2370.0         0.0          128.0     1397.0      0.0  \n4/12/22           1203.0         0.0           76.0      704.0    -23.0  \n4/13/22           1217.0      4695.0           25.0      860.0      0.0  \n\n[813 rows x 58 columns]",
      "text/html": "<div>\n<style scoped>\n    .dataframe tbody tr th:only-of-type {\n        vertical-align: middle;\n    }\n\n    .dataframe tbody tr th {\n        vertical-align: top;\n    }\n\n    .dataframe thead th {\n        text-align: right;\n    }\n</style>\n<table border=\"1\" class=\"dataframe\">\n  <thead>\n    <tr style=\"text-align: right;\">\n      <th>Province_State</th>\n      <th>Alabama</th>\n      <th>Alaska</th>\n      <th>American Samoa</th>\n      <th>Arizona</th>\n      <th>Arkansas</th>\n      <th>California</th>\n      <th>Colorado</th>\n      <th>Connecticut</th>\n      <th>Delaware</th>\n      <th>Diamond Princess</th>\n      <th>...</th>\n      <th>Tennessee</th>\n      <th>Texas</th>\n      <th>Utah</th>\n      <th>Vermont</th>\n      <th>Virgin Islands</th>\n      <th>Virginia</th>\n      <th>Washington</th>\n      <th>West Virginia</th>\n      <th>Wisconsin</th>\n      <th>Wyoming</th>\n    </tr>\n  </thead>\n  <tbody>\n    <tr>\n      <th>1/22/20</th>\n      <td>NaN</td>\n      <td>NaN</td>\n      <td>NaN</td>\n      <td>NaN</td>\n      <td>NaN</td>\n      <td>NaN</td>\n      <td>NaN</td>\n      <td>NaN</td>\n      <td>NaN</td>\n      <td>NaN</td>\n      <td>...</td>\n      <td>NaN</td>\n      <td>NaN</td>\n      <td>NaN</td>\n      <td>NaN</td>\n      <td>NaN</td>\n      <td>NaN</td>\n      <td>NaN</td>\n      <td>NaN</td>\n      <td>NaN</td>\n      <td>NaN</td>\n    </tr>\n    <tr>\n      <th>1/23/20</th>\n      <td>0.0</td>\n      <td>0.0</td>\n      <td>0.0</td>\n      <td>0.0</td>\n      <td>0.0</td>\n      <td>0.0</td>\n      <td>0.0</td>\n      <td>0.0</td>\n      <td>0.0</td>\n      <td>0.0</td>\n      <td>...</td>\n      <td>0.0</td>\n      <td>0.0</td>\n      <td>0.0</td>\n      <td>0.0</td>\n      <td>0.0</td>\n      <td>0.0</td>\n      <td>0.0</td>\n      <td>0.0</td>\n      <td>0.0</td>\n      <td>0.0</td>\n    </tr>\n    <tr>\n      <th>1/24/20</th>\n      <td>0.0</td>\n      <td>0.0</td>\n      <td>0.0</td>\n      <td>0.0</td>\n      <td>0.0</td>\n      <td>0.0</td>\n      <td>0.0</td>\n      <td>0.0</td>\n      <td>0.0</td>\n      <td>0.0</td>\n      <td>...</td>\n      <td>0.0</td>\n      <td>0.0</td>\n      <td>0.0</td>\n      <td>0.0</td>\n      <td>0.0</td>\n      <td>0.0</td>\n      <td>0.0</td>\n      <td>0.0</td>\n      <td>0.0</td>\n      <td>0.0</td>\n    </tr>\n    <tr>\n      <th>1/25/20</th>\n      <td>0.0</td>\n      <td>0.0</td>\n      <td>0.0</td>\n      <td>0.0</td>\n      <td>0.0</td>\n      <td>0.0</td>\n      <td>0.0</td>\n      <td>0.0</td>\n      <td>0.0</td>\n      <td>0.0</td>\n      <td>...</td>\n      <td>0.0</td>\n      <td>0.0</td>\n      <td>0.0</td>\n      <td>0.0</td>\n      <td>0.0</td>\n      <td>0.0</td>\n      <td>0.0</td>\n      <td>0.0</td>\n      <td>0.0</td>\n      <td>0.0</td>\n    </tr>\n    <tr>\n      <th>1/26/20</th>\n      <td>0.0</td>\n      <td>0.0</td>\n      <td>0.0</td>\n      <td>1.0</td>\n      <td>0.0</td>\n      <td>2.0</td>\n      <td>0.0</td>\n      <td>0.0</td>\n      <td>0.0</td>\n      <td>0.0</td>\n      <td>...</td>\n      <td>0.0</td>\n      <td>0.0</td>\n      <td>0.0</td>\n      <td>0.0</td>\n      <td>0.0</td>\n      <td>0.0</td>\n      <td>0.0</td>\n      <td>0.0</td>\n      <td>0.0</td>\n      <td>0.0</td>\n    </tr>\n    <tr>\n      <th>...</th>\n      <td>...</td>\n      <td>...</td>\n      <td>...</td>\n      <td>...</td>\n      <td>...</td>\n      <td>...</td>\n      <td>...</td>\n      <td>...</td>\n      <td>...</td>\n      <td>...</td>\n      <td>...</td>\n      <td>...</td>\n      <td>...</td>\n      <td>...</td>\n      <td>...</td>\n      <td>...</td>\n      <td>...</td>\n      <td>...</td>\n      <td>...</td>\n      <td>...</td>\n      <td>...</td>\n    </tr>\n    <tr>\n      <th>4/9/22</th>\n      <td>0.0</td>\n      <td>0.0</td>\n      <td>0.0</td>\n      <td>0.0</td>\n      <td>60.0</td>\n      <td>0.0</td>\n      <td>0.0</td>\n      <td>0.0</td>\n      <td>110.0</td>\n      <td>0.0</td>\n      <td>...</td>\n      <td>479.0</td>\n      <td>2469.0</td>\n      <td>0.0</td>\n      <td>0.0</td>\n      <td>0.0</td>\n      <td>0.0</td>\n      <td>0.0</td>\n      <td>0.0</td>\n      <td>0.0</td>\n      <td>0.0</td>\n    </tr>\n    <tr>\n      <th>4/10/22</th>\n      <td>0.0</td>\n      <td>0.0</td>\n      <td>0.0</td>\n      <td>0.0</td>\n      <td>30.0</td>\n      <td>0.0</td>\n      <td>0.0</td>\n      <td>0.0</td>\n      <td>141.0</td>\n      <td>0.0</td>\n      <td>...</td>\n      <td>0.0</td>\n      <td>723.0</td>\n      <td>0.0</td>\n      <td>0.0</td>\n      <td>0.0</td>\n      <td>0.0</td>\n      <td>0.0</td>\n      <td>0.0</td>\n      <td>0.0</td>\n      <td>0.0</td>\n    </tr>\n    <tr>\n      <th>4/11/22</th>\n      <td>361.0</td>\n      <td>0.0</td>\n      <td>297.0</td>\n      <td>0.0</td>\n      <td>33.0</td>\n      <td>5093.0</td>\n      <td>2943.0</td>\n      <td>1836.0</td>\n      <td>87.0</td>\n      <td>0.0</td>\n      <td>...</td>\n      <td>0.0</td>\n      <td>3558.0</td>\n      <td>0.0</td>\n      <td>529.0</td>\n      <td>20.0</td>\n      <td>2370.0</td>\n      <td>0.0</td>\n      <td>128.0</td>\n      <td>1397.0</td>\n      <td>0.0</td>\n    </tr>\n    <tr>\n      <th>4/12/22</th>\n      <td>214.0</td>\n      <td>0.0</td>\n      <td>119.0</td>\n      <td>0.0</td>\n      <td>103.0</td>\n      <td>917.0</td>\n      <td>1119.0</td>\n      <td>631.0</td>\n      <td>73.0</td>\n      <td>0.0</td>\n      <td>...</td>\n      <td>571.0</td>\n      <td>2946.0</td>\n      <td>0.0</td>\n      <td>163.0</td>\n      <td>17.0</td>\n      <td>1203.0</td>\n      <td>0.0</td>\n      <td>76.0</td>\n      <td>704.0</td>\n      <td>-23.0</td>\n    </tr>\n    <tr>\n      <th>4/13/22</th>\n      <td>156.0</td>\n      <td>1303.0</td>\n      <td>10.0</td>\n      <td>2777.0</td>\n      <td>127.0</td>\n      <td>975.0</td>\n      <td>1656.0</td>\n      <td>691.0</td>\n      <td>151.0</td>\n      <td>0.0</td>\n      <td>...</td>\n      <td>277.0</td>\n      <td>-10061.0</td>\n      <td>0.0</td>\n      <td>310.0</td>\n      <td>35.0</td>\n      <td>1217.0</td>\n      <td>4695.0</td>\n      <td>25.0</td>\n      <td>860.0</td>\n      <td>0.0</td>\n    </tr>\n  </tbody>\n</table>\n<p>813 rows × 58 columns</p>\n</div>"
     },
     "execution_count": 71,
     "metadata": {},
     "output_type": "execute_result"
    }
   ],
   "source": [
    "ts_process_US(time_series_covid19_confirmed_US)"
   ],
   "metadata": {
    "collapsed": false,
    "pycharm": {
     "name": "#%%\n"
    }
   }
  }
 ],
 "metadata": {
  "kernelspec": {
   "display_name": "Python 3",
   "language": "python",
   "name": "python3"
  },
  "language_info": {
   "codemirror_mode": {
    "name": "ipython",
    "version": 2
   },
   "file_extension": ".py",
   "mimetype": "text/x-python",
   "name": "python",
   "nbconvert_exporter": "python",
   "pygments_lexer": "ipython2",
   "version": "2.7.6"
  }
 },
 "nbformat": 4,
 "nbformat_minor": 0
}