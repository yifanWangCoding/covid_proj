{
 "cells": [
  {
   "cell_type": "code",
   "execution_count": 2,
   "metadata": {
    "collapsed": true,
    "pycharm": {
     "name": "#%%\n"
    }
   },
   "outputs": [],
   "source": [
    "import pandas as pd"
   ]
  },
  {
   "cell_type": "code",
   "execution_count": 3,
   "outputs": [],
   "source": [
    "data1 = pd.read_csv('https://gitee.com/gzjzg/whale-pkg/raw/master/covid.csv')"
   ],
   "metadata": {
    "collapsed": false,
    "pycharm": {
     "name": "#%%\n"
    }
   }
  },
  {
   "cell_type": "code",
   "execution_count": 4,
   "outputs": [
    {
     "data": {
      "text/plain": "   web-scraper-order                    web-scraper-start-url  \\\n0      1649931125-19  https://wsjkw.sh.gov.cn/yqtb/index.html   \n1      1649931125-10  https://wsjkw.sh.gov.cn/yqtb/index.html   \n2       1649931125-8  https://wsjkw.sh.gov.cn/yqtb/index.html   \n3      1649931125-17  https://wsjkw.sh.gov.cn/yqtb/index.html   \n4      1649931125-12  https://wsjkw.sh.gov.cn/yqtb/index.html   \n5       1649931125-4  https://wsjkw.sh.gov.cn/yqtb/index.html   \n6      1649931125-20  https://wsjkw.sh.gov.cn/yqtb/index.html   \n7      1649931125-16  https://wsjkw.sh.gov.cn/yqtb/index.html   \n8       1649931125-6  https://wsjkw.sh.gov.cn/yqtb/index.html   \n9       1649931125-9  https://wsjkw.sh.gov.cn/yqtb/index.html   \n10      1649931125-5  https://wsjkw.sh.gov.cn/yqtb/index.html   \n11     1649931125-14  https://wsjkw.sh.gov.cn/yqtb/index.html   \n12     1649931125-15  https://wsjkw.sh.gov.cn/yqtb/index.html   \n13      1649931125-2  https://wsjkw.sh.gov.cn/yqtb/index.html   \n14      1649931125-3  https://wsjkw.sh.gov.cn/yqtb/index.html   \n15      1649931125-7  https://wsjkw.sh.gov.cn/yqtb/index.html   \n16      1649931125-1  https://wsjkw.sh.gov.cn/yqtb/index.html   \n17     1649931125-11  https://wsjkw.sh.gov.cn/yqtb/index.html   \n18     1649931125-13  https://wsjkw.sh.gov.cn/yqtb/index.html   \n19     1649931125-18  https://wsjkw.sh.gov.cn/yqtb/index.html   \n\n                                               detail  \\\n0                     4月4日（0-24时）本市各区确诊病例、无症状感染者居住地信息   \n1   上海2022年4月9日，新增本土新冠肺炎确诊病例1006例 新增本土无症状感染者23937例...   \n2   上海2022年4月10日，新增本土新冠肺炎确诊病例914例 新增本土无症状感染者25173例...   \n3                     4月5日（0-24时）本市各区确诊病例、无症状感染者居住地信息   \n4   上海2022年4月8日，新增本土新冠肺炎确诊病例1015例 新增本土无症状感染者22609例...   \n5   上海2022年4月12日，新增本土新冠肺炎确诊病例1189例 新增本土无症状感染者25141...   \n6   上海2022年4月4日，新增本土新冠肺炎确诊病例268例 新增本土无症状感染者13086例 ...   \n7   上海2022年4月6日，新增本土新冠肺炎确诊病例322例 新增本土无症状感染者19660例 ...   \n8   上海2022年4月11日，新增本土新冠肺炎确诊病例994例 新增本土无症状感染者22348例...   \n9                     4月9日（0-24时）本市各区确诊病例、无症状感染者居住地信息   \n10                   4月11日（0-24时）本市各区确诊病例、无症状感染者居住地信息   \n11  上海2022年4月7日，新增本土新冠肺炎确诊病例824例 新增本土无症状感染者20398例 ...   \n12                    4月6日（0-24时）本市各区确诊病例、无症状感染者居住地信息   \n13  上海2022年4月13日，新增本土新冠肺炎确诊病例2573例 新增本土无症状感染者25146...   \n14               【最新】4月12日（0-24时）本市各区确诊病例、无症状感染者居住地信息   \n15                   4月10日（0-24时）本市各区确诊病例、无症状感染者居住地信息   \n16                   4月13日（0-24时）本市各区确诊病例、无症状感染者居住地信息   \n17                    4月8日（0-24时）本市各区确诊病例、无症状感染者居住地信息   \n18                    4月7日（0-24时）本市各区确诊病例、无症状感染者居住地信息   \n19  上海2022年4月5日，新增本土新冠肺炎确诊病例311例 新增本土无症状感染者16766例 ...   \n\n                                          detail-href  \n0   https://wsjkw.sh.gov.cn/xwfb/20220405/4c6aec72...  \n1   https://wsjkw.sh.gov.cn/xwfb/20220410/95b812b6...  \n2   https://wsjkw.sh.gov.cn/xwfb/20220411/f6021ae6...  \n3   https://mp.weixin.qq.com/s/djwW3S9FUYBE2L5Hj94a3A  \n4   https://wsjkw.sh.gov.cn/xwfb/20220409/52eee46f...  \n5   https://wsjkw.sh.gov.cn/xwfb/20220413/56947d2b...  \n6   https://wsjkw.sh.gov.cn/xwfb/20220405/c80df81f...  \n7   https://wsjkw.sh.gov.cn/xwfb/20220407/ca59cfd6...  \n8   https://wsjkw.sh.gov.cn/xwfb/20220412/eaf942f6...  \n9   https://mp.weixin.qq.com/s/_Je5_5_HqBcs5chvH5SFfA  \n10  https://mp.weixin.qq.com/s/vxFiV2HeSvByINUlTmFKZA  \n11  https://wsjkw.sh.gov.cn/xwfb/20220408/779c3f24...  \n12  https://mp.weixin.qq.com/s/8bljTUplPh1q4MXb6wd_gg  \n13  https://wsjkw.sh.gov.cn/xwfb/20220414/083cc562...  \n14  https://mp.weixin.qq.com/s/OZGM-pNkefZqWr0IFRJj1g  \n15  https://mp.weixin.qq.com/s/u0XfHF8dgfEp8vGjRtcwXA  \n16  https://mp.weixin.qq.com/s/L9AffT-SoEBV4puBa_mRqg  \n17  https://mp.weixin.qq.com/s/79NsKhMHbg09Y0xaybTXjA  \n18  https://mp.weixin.qq.com/s/HTM47mUp0GF-tWXkPeZJlg  \n19  https://wsjkw.sh.gov.cn/xwfb/20220406/9873e70a...  ",
      "text/html": "<div>\n<style scoped>\n    .dataframe tbody tr th:only-of-type {\n        vertical-align: middle;\n    }\n\n    .dataframe tbody tr th {\n        vertical-align: top;\n    }\n\n    .dataframe thead th {\n        text-align: right;\n    }\n</style>\n<table border=\"1\" class=\"dataframe\">\n  <thead>\n    <tr style=\"text-align: right;\">\n      <th></th>\n      <th>web-scraper-order</th>\n      <th>web-scraper-start-url</th>\n      <th>detail</th>\n      <th>detail-href</th>\n    </tr>\n  </thead>\n  <tbody>\n    <tr>\n      <th>0</th>\n      <td>1649931125-19</td>\n      <td>https://wsjkw.sh.gov.cn/yqtb/index.html</td>\n      <td>4月4日（0-24时）本市各区确诊病例、无症状感染者居住地信息</td>\n      <td>https://wsjkw.sh.gov.cn/xwfb/20220405/4c6aec72...</td>\n    </tr>\n    <tr>\n      <th>1</th>\n      <td>1649931125-10</td>\n      <td>https://wsjkw.sh.gov.cn/yqtb/index.html</td>\n      <td>上海2022年4月9日，新增本土新冠肺炎确诊病例1006例 新增本土无症状感染者23937例...</td>\n      <td>https://wsjkw.sh.gov.cn/xwfb/20220410/95b812b6...</td>\n    </tr>\n    <tr>\n      <th>2</th>\n      <td>1649931125-8</td>\n      <td>https://wsjkw.sh.gov.cn/yqtb/index.html</td>\n      <td>上海2022年4月10日，新增本土新冠肺炎确诊病例914例 新增本土无症状感染者25173例...</td>\n      <td>https://wsjkw.sh.gov.cn/xwfb/20220411/f6021ae6...</td>\n    </tr>\n    <tr>\n      <th>3</th>\n      <td>1649931125-17</td>\n      <td>https://wsjkw.sh.gov.cn/yqtb/index.html</td>\n      <td>4月5日（0-24时）本市各区确诊病例、无症状感染者居住地信息</td>\n      <td>https://mp.weixin.qq.com/s/djwW3S9FUYBE2L5Hj94a3A</td>\n    </tr>\n    <tr>\n      <th>4</th>\n      <td>1649931125-12</td>\n      <td>https://wsjkw.sh.gov.cn/yqtb/index.html</td>\n      <td>上海2022年4月8日，新增本土新冠肺炎确诊病例1015例 新增本土无症状感染者22609例...</td>\n      <td>https://wsjkw.sh.gov.cn/xwfb/20220409/52eee46f...</td>\n    </tr>\n    <tr>\n      <th>5</th>\n      <td>1649931125-4</td>\n      <td>https://wsjkw.sh.gov.cn/yqtb/index.html</td>\n      <td>上海2022年4月12日，新增本土新冠肺炎确诊病例1189例 新增本土无症状感染者25141...</td>\n      <td>https://wsjkw.sh.gov.cn/xwfb/20220413/56947d2b...</td>\n    </tr>\n    <tr>\n      <th>6</th>\n      <td>1649931125-20</td>\n      <td>https://wsjkw.sh.gov.cn/yqtb/index.html</td>\n      <td>上海2022年4月4日，新增本土新冠肺炎确诊病例268例 新增本土无症状感染者13086例 ...</td>\n      <td>https://wsjkw.sh.gov.cn/xwfb/20220405/c80df81f...</td>\n    </tr>\n    <tr>\n      <th>7</th>\n      <td>1649931125-16</td>\n      <td>https://wsjkw.sh.gov.cn/yqtb/index.html</td>\n      <td>上海2022年4月6日，新增本土新冠肺炎确诊病例322例 新增本土无症状感染者19660例 ...</td>\n      <td>https://wsjkw.sh.gov.cn/xwfb/20220407/ca59cfd6...</td>\n    </tr>\n    <tr>\n      <th>8</th>\n      <td>1649931125-6</td>\n      <td>https://wsjkw.sh.gov.cn/yqtb/index.html</td>\n      <td>上海2022年4月11日，新增本土新冠肺炎确诊病例994例 新增本土无症状感染者22348例...</td>\n      <td>https://wsjkw.sh.gov.cn/xwfb/20220412/eaf942f6...</td>\n    </tr>\n    <tr>\n      <th>9</th>\n      <td>1649931125-9</td>\n      <td>https://wsjkw.sh.gov.cn/yqtb/index.html</td>\n      <td>4月9日（0-24时）本市各区确诊病例、无症状感染者居住地信息</td>\n      <td>https://mp.weixin.qq.com/s/_Je5_5_HqBcs5chvH5SFfA</td>\n    </tr>\n    <tr>\n      <th>10</th>\n      <td>1649931125-5</td>\n      <td>https://wsjkw.sh.gov.cn/yqtb/index.html</td>\n      <td>4月11日（0-24时）本市各区确诊病例、无症状感染者居住地信息</td>\n      <td>https://mp.weixin.qq.com/s/vxFiV2HeSvByINUlTmFKZA</td>\n    </tr>\n    <tr>\n      <th>11</th>\n      <td>1649931125-14</td>\n      <td>https://wsjkw.sh.gov.cn/yqtb/index.html</td>\n      <td>上海2022年4月7日，新增本土新冠肺炎确诊病例824例 新增本土无症状感染者20398例 ...</td>\n      <td>https://wsjkw.sh.gov.cn/xwfb/20220408/779c3f24...</td>\n    </tr>\n    <tr>\n      <th>12</th>\n      <td>1649931125-15</td>\n      <td>https://wsjkw.sh.gov.cn/yqtb/index.html</td>\n      <td>4月6日（0-24时）本市各区确诊病例、无症状感染者居住地信息</td>\n      <td>https://mp.weixin.qq.com/s/8bljTUplPh1q4MXb6wd_gg</td>\n    </tr>\n    <tr>\n      <th>13</th>\n      <td>1649931125-2</td>\n      <td>https://wsjkw.sh.gov.cn/yqtb/index.html</td>\n      <td>上海2022年4月13日，新增本土新冠肺炎确诊病例2573例 新增本土无症状感染者25146...</td>\n      <td>https://wsjkw.sh.gov.cn/xwfb/20220414/083cc562...</td>\n    </tr>\n    <tr>\n      <th>14</th>\n      <td>1649931125-3</td>\n      <td>https://wsjkw.sh.gov.cn/yqtb/index.html</td>\n      <td>【最新】4月12日（0-24时）本市各区确诊病例、无症状感染者居住地信息</td>\n      <td>https://mp.weixin.qq.com/s/OZGM-pNkefZqWr0IFRJj1g</td>\n    </tr>\n    <tr>\n      <th>15</th>\n      <td>1649931125-7</td>\n      <td>https://wsjkw.sh.gov.cn/yqtb/index.html</td>\n      <td>4月10日（0-24时）本市各区确诊病例、无症状感染者居住地信息</td>\n      <td>https://mp.weixin.qq.com/s/u0XfHF8dgfEp8vGjRtcwXA</td>\n    </tr>\n    <tr>\n      <th>16</th>\n      <td>1649931125-1</td>\n      <td>https://wsjkw.sh.gov.cn/yqtb/index.html</td>\n      <td>4月13日（0-24时）本市各区确诊病例、无症状感染者居住地信息</td>\n      <td>https://mp.weixin.qq.com/s/L9AffT-SoEBV4puBa_mRqg</td>\n    </tr>\n    <tr>\n      <th>17</th>\n      <td>1649931125-11</td>\n      <td>https://wsjkw.sh.gov.cn/yqtb/index.html</td>\n      <td>4月8日（0-24时）本市各区确诊病例、无症状感染者居住地信息</td>\n      <td>https://mp.weixin.qq.com/s/79NsKhMHbg09Y0xaybTXjA</td>\n    </tr>\n    <tr>\n      <th>18</th>\n      <td>1649931125-13</td>\n      <td>https://wsjkw.sh.gov.cn/yqtb/index.html</td>\n      <td>4月7日（0-24时）本市各区确诊病例、无症状感染者居住地信息</td>\n      <td>https://mp.weixin.qq.com/s/HTM47mUp0GF-tWXkPeZJlg</td>\n    </tr>\n    <tr>\n      <th>19</th>\n      <td>1649931125-18</td>\n      <td>https://wsjkw.sh.gov.cn/yqtb/index.html</td>\n      <td>上海2022年4月5日，新增本土新冠肺炎确诊病例311例 新增本土无症状感染者16766例 ...</td>\n      <td>https://wsjkw.sh.gov.cn/xwfb/20220406/9873e70a...</td>\n    </tr>\n  </tbody>\n</table>\n</div>"
     },
     "execution_count": 4,
     "metadata": {},
     "output_type": "execute_result"
    }
   ],
   "source": [
    "data1"
   ],
   "metadata": {
    "collapsed": false,
    "pycharm": {
     "name": "#%%\n"
    }
   }
  },
  {
   "cell_type": "code",
   "execution_count": 5,
   "outputs": [],
   "source": [
    "data2 = data1['detail'].sort_values()"
   ],
   "metadata": {
    "collapsed": false,
    "pycharm": {
     "name": "#%%\n"
    }
   }
  },
  {
   "cell_type": "code",
   "execution_count": 6,
   "outputs": [],
   "source": [
    "# transform the data, get ready to use re.search()\n",
    "for i in range(len(data2)):\n",
    "    data2[i] = data2[i].replace(\"年\", \"-\").replace(\"月\", \"-\").replace(\"日\", \" \").replace(\"/\", \"-\").strip()"
   ],
   "metadata": {
    "collapsed": false,
    "pycharm": {
     "name": "#%%\n"
    }
   }
  },
  {
   "cell_type": "code",
   "execution_count": 8,
   "outputs": [],
   "source": [
    "# initial cases dataframe\n",
    "cases = pd.DataFrame(columns=['local_daily_positive_cases', 'local_asymptomatic_cases'])"
   ],
   "metadata": {
    "collapsed": false,
    "pycharm": {
     "name": "#%%\n"
    }
   }
  },
  {
   "cell_type": "code",
   "execution_count": 9,
   "outputs": [],
   "source": [
    "import re\n",
    "for i in range(len(data2)):\n",
    "    # using regex\n",
    "    case = re.search(r'(\\d{4}-\\d{1,2}-\\d{1,2})(.*?)(\\d+)(.*?)(\\d+)',data2[i])\n",
    "    # if cannot find useful infor, ignore that line\n",
    "    if case == None:\n",
    "        cases = cases\n",
    "    # else, we have a new record of daily covid report\n",
    "    else:\n",
    "        case = pd.DataFrame([[case.group(3), case.group(5)]],\n",
    "                            columns=['local_daily_positive_cases', 'local_asymptomatic_cases'],\n",
    "                            # transform date from str to datetime format\n",
    "                            index = [pd.to_datetime(case.group(1))])\n",
    "        cases = cases.append(case)"
   ],
   "metadata": {
    "collapsed": false,
    "pycharm": {
     "name": "#%%\n"
    }
   }
  },
  {
   "cell_type": "code",
   "execution_count": 10,
   "outputs": [
    {
     "data": {
      "text/plain": "           local_daily_positive_cases local_asymptomatic_cases\n2022-04-04                        268                    13086\n2022-04-05                        311                    16766\n2022-04-06                        322                    19660\n2022-04-07                        824                    20398\n2022-04-08                       1015                    22609\n2022-04-09                       1006                    23937\n2022-04-10                        914                    25173\n2022-04-11                        994                    22348\n2022-04-12                       1189                    25141\n2022-04-13                       2573                    25146",
      "text/html": "<div>\n<style scoped>\n    .dataframe tbody tr th:only-of-type {\n        vertical-align: middle;\n    }\n\n    .dataframe tbody tr th {\n        vertical-align: top;\n    }\n\n    .dataframe thead th {\n        text-align: right;\n    }\n</style>\n<table border=\"1\" class=\"dataframe\">\n  <thead>\n    <tr style=\"text-align: right;\">\n      <th></th>\n      <th>local_daily_positive_cases</th>\n      <th>local_asymptomatic_cases</th>\n    </tr>\n  </thead>\n  <tbody>\n    <tr>\n      <th>2022-04-04</th>\n      <td>268</td>\n      <td>13086</td>\n    </tr>\n    <tr>\n      <th>2022-04-05</th>\n      <td>311</td>\n      <td>16766</td>\n    </tr>\n    <tr>\n      <th>2022-04-06</th>\n      <td>322</td>\n      <td>19660</td>\n    </tr>\n    <tr>\n      <th>2022-04-07</th>\n      <td>824</td>\n      <td>20398</td>\n    </tr>\n    <tr>\n      <th>2022-04-08</th>\n      <td>1015</td>\n      <td>22609</td>\n    </tr>\n    <tr>\n      <th>2022-04-09</th>\n      <td>1006</td>\n      <td>23937</td>\n    </tr>\n    <tr>\n      <th>2022-04-10</th>\n      <td>914</td>\n      <td>25173</td>\n    </tr>\n    <tr>\n      <th>2022-04-11</th>\n      <td>994</td>\n      <td>22348</td>\n    </tr>\n    <tr>\n      <th>2022-04-12</th>\n      <td>1189</td>\n      <td>25141</td>\n    </tr>\n    <tr>\n      <th>2022-04-13</th>\n      <td>2573</td>\n      <td>25146</td>\n    </tr>\n  </tbody>\n</table>\n</div>"
     },
     "execution_count": 10,
     "metadata": {},
     "output_type": "execute_result"
    }
   ],
   "source": [
    "cases['local_daily_positive_cases'].astype(int)\n",
    "cases['local_asymptomatic_cases'].astype(int)\n",
    "# final result\n",
    "cases.sort_index()"
   ],
   "metadata": {
    "collapsed": false,
    "pycharm": {
     "name": "#%%\n"
    }
   }
  }
 ],
 "metadata": {
  "kernelspec": {
   "display_name": "Python 3",
   "language": "python",
   "name": "python3"
  },
  "language_info": {
   "codemirror_mode": {
    "name": "ipython",
    "version": 2
   },
   "file_extension": ".py",
   "mimetype": "text/x-python",
   "name": "python",
   "nbconvert_exporter": "python",
   "pygments_lexer": "ipython2",
   "version": "2.7.6"
  }
 },
 "nbformat": 4,
 "nbformat_minor": 0
}