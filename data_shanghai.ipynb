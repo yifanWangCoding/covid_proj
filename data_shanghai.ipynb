{
 "cells": [
  {
   "cell_type": "code",
   "execution_count": 25,
   "metadata": {
    "collapsed": true,
    "pycharm": {
     "name": "#%%\n"
    }
   },
   "outputs": [],
   "source": [
    "import numpy as np\n",
    "import pandas as pd\n",
    "import re"
   ]
  },
  {
   "cell_type": "code",
   "execution_count": 18,
   "outputs": [
    {
     "data": {
      "text/plain": "0      上海2022年2月4日，无新增本土新冠肺炎确诊病例 新增境外输入7例  治愈出院16例 解除...\n1             上海2021年4月26日，无新增本地新冠肺炎确诊病例 新增境外输入1例 治愈出院3例\n2             上海2021年1月3日，无新增本地新冠肺炎确诊病例 新增境外输入4例  治愈出院5例\n3            上海2021年1月12日,无新增本地新冠肺炎确诊病例 新增境外输入5例  治愈出院6例\n4                          上海7月24日无新增本地新冠肺炎确诊病例 新增境外输入2例\n                             ...                        \n967                             上海有2例确诊病例今日出院，共计739例治愈出院\n968    上海2022年4月12日，新增本土新冠肺炎确诊病例1189例 新增本土无症状感染者25141...\n969          上海2021年1月31日，无新增本地新冠肺炎确诊病例 新增境外输入4例  治愈出院4例\n970               上海10月24日无新增本地新冠肺炎确诊病例 新增境外输入5例  治愈出院3例\n971           上海2021年6月25日，无新增本地新冠肺炎确诊病例 新增境外输入3例 治愈出院5例\nName: detail, Length: 972, dtype: object"
     },
     "execution_count": 18,
     "metadata": {},
     "output_type": "execute_result"
    }
   ],
   "source": [
    "data_name = 'ts_shanghai_covid'\n",
    "url = f'https://gitee.com/gzjzg/whale-pkg/raw/master/DATA/{data_name}.csv'\n",
    "data1 = pd.read_csv(url,encoding = 'gbk')['detail']\n",
    "data1"
   ],
   "metadata": {
    "collapsed": false,
    "pycharm": {
     "name": "#%%\n"
    }
   }
  },
  {
   "cell_type": "code",
   "execution_count": 24,
   "outputs": [
    {
     "data": {
      "text/plain": "561           上海2021年10月10日，0本地新冠肺炎确诊病例 新增境外输入3例  治愈出院3例\n249           上海2021年10月11日，0本地新冠肺炎确诊病例 新增境外输入3例  治愈出院9例\n874           上海2021年10月12日，0本地新冠肺炎确诊病例 新增境外输入2例  治愈出院5例\n675           上海2021年10月13日，0本地新冠肺炎确诊病例 新增境外输入1例  治愈出院1例\n244           上海2021年10月14日，0本地新冠肺炎确诊病例 新增境外输入1例  治愈出院5例\n                             ...                        \n211    上海2022年4月5日，新增本土新冠肺炎确诊病例311例 新增本土无症状感染者16766例 ...\n203    上海2022年4月6日，新增本土新冠肺炎确诊病例322例 新增本土无症状感染者19660例 ...\n855    上海2022年4月7日，新增本土新冠肺炎确诊病例824例 新增本土无症状感染者20398例 ...\n805    上海2022年4月8日，新增本土新冠肺炎确诊病例1015例 新增本土无症状感染者22609例...\n344    上海2022年4月9日，新增本土新冠肺炎确诊病例1006例 新增本土无症状感染者23937例...\nName: detail, Length: 452, dtype: object"
     },
     "execution_count": 24,
     "metadata": {},
     "output_type": "execute_result"
    }
   ],
   "source": [
    "\n",
    "data2 = data1[data1.apply(lambda x: x.startswith('上海202'))].sort_values()\n",
    "data2 = data2.apply(lambda x: re.sub(r'\\（.*?\\）', '', x))\n",
    "data2 = data2.apply(lambda x: x.replace('无新增','0'))\n",
    "data2"
   ],
   "metadata": {
    "collapsed": false,
    "pycharm": {
     "name": "#%%\n"
    }
   }
  },
  {
   "cell_type": "code",
   "execution_count": 28,
   "outputs": [],
   "source": [
    "df_all = pd.DataFrame(map(np.ravel,data2.apply(lambda x: re.findall(r\"\\d+\",x)))).rename({\n",
    "    0:'year',\n",
    "    1:'month',\n",
    "    2:'day',\n",
    "    3:'local_daily_positive_cases',\n",
    "    4:'local_asymptomatic_cases'\n",
    "},axis=1).iloc[:,:5]\n",
    "df_all['date'] = df_all['year'].map(str)+\"/\"+df_all['month'].map(str)+\"/\"+df_all['day'].map(str)\n",
    "df_all['date'] = pd.to_datetime(df_all['date'])\n",
    "\n",
    "df_all = df_all.set_index('date').sort_index()\n",
    "df_all = df_all.astype('int32')\n",
    "df = df_all.iloc[:,3:5]"
   ],
   "metadata": {
    "collapsed": false,
    "pycharm": {
     "name": "#%%\n"
    }
   }
  },
  {
   "cell_type": "code",
   "execution_count": 29,
   "outputs": [
    {
     "data": {
      "text/plain": "            local_daily_positive_cases  local_asymptomatic_cases\ndate                                                            \n2021-01-01                           0                         4\n2021-01-02                           0                         6\n2021-01-03                           0                         4\n2021-01-04                           0                         6\n2021-01-05                           0                         2\n...                                ...                       ...\n2022-04-15                        3590                     19923\n2022-04-16                        3238                     21582\n2022-04-17                        2417                     19831\n2022-04-18                        3084                     17332\n2022-04-19                        2494                     16407\n\n[452 rows x 2 columns]",
      "text/html": "<div>\n<style scoped>\n    .dataframe tbody tr th:only-of-type {\n        vertical-align: middle;\n    }\n\n    .dataframe tbody tr th {\n        vertical-align: top;\n    }\n\n    .dataframe thead th {\n        text-align: right;\n    }\n</style>\n<table border=\"1\" class=\"dataframe\">\n  <thead>\n    <tr style=\"text-align: right;\">\n      <th></th>\n      <th>local_daily_positive_cases</th>\n      <th>local_asymptomatic_cases</th>\n    </tr>\n    <tr>\n      <th>date</th>\n      <th></th>\n      <th></th>\n    </tr>\n  </thead>\n  <tbody>\n    <tr>\n      <th>2021-01-01</th>\n      <td>0</td>\n      <td>4</td>\n    </tr>\n    <tr>\n      <th>2021-01-02</th>\n      <td>0</td>\n      <td>6</td>\n    </tr>\n    <tr>\n      <th>2021-01-03</th>\n      <td>0</td>\n      <td>4</td>\n    </tr>\n    <tr>\n      <th>2021-01-04</th>\n      <td>0</td>\n      <td>6</td>\n    </tr>\n    <tr>\n      <th>2021-01-05</th>\n      <td>0</td>\n      <td>2</td>\n    </tr>\n    <tr>\n      <th>...</th>\n      <td>...</td>\n      <td>...</td>\n    </tr>\n    <tr>\n      <th>2022-04-15</th>\n      <td>3590</td>\n      <td>19923</td>\n    </tr>\n    <tr>\n      <th>2022-04-16</th>\n      <td>3238</td>\n      <td>21582</td>\n    </tr>\n    <tr>\n      <th>2022-04-17</th>\n      <td>2417</td>\n      <td>19831</td>\n    </tr>\n    <tr>\n      <th>2022-04-18</th>\n      <td>3084</td>\n      <td>17332</td>\n    </tr>\n    <tr>\n      <th>2022-04-19</th>\n      <td>2494</td>\n      <td>16407</td>\n    </tr>\n  </tbody>\n</table>\n<p>452 rows × 2 columns</p>\n</div>"
     },
     "execution_count": 29,
     "metadata": {},
     "output_type": "execute_result"
    }
   ],
   "source": [
    "df"
   ],
   "metadata": {
    "collapsed": false,
    "pycharm": {
     "name": "#%%\n"
    }
   }
  },
  {
   "cell_type": "code",
   "execution_count": null,
   "outputs": [],
   "source": [],
   "metadata": {
    "collapsed": false,
    "pycharm": {
     "name": "#%%\n"
    }
   }
  }
 ],
 "metadata": {
  "kernelspec": {
   "display_name": "Python 3",
   "language": "python",
   "name": "python3"
  },
  "language_info": {
   "codemirror_mode": {
    "name": "ipython",
    "version": 2
   },
   "file_extension": ".py",
   "mimetype": "text/x-python",
   "name": "python",
   "nbconvert_exporter": "python",
   "pygments_lexer": "ipython2",
   "version": "2.7.6"
  }
 },
 "nbformat": 4,
 "nbformat_minor": 0
}